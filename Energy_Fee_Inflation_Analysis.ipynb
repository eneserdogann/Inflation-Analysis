{
 "cells": [
  {
   "cell_type": "markdown",
   "id": "db67a86b",
   "metadata": {},
   "source": [
    "# Relationship Btw Changes in the Dollar Exchange Rate and Energy Fee"
   ]
  },
  {
   "cell_type": "markdown",
   "id": "92b6f7cc",
   "metadata": {},
   "source": [
    "*******************************"
   ]
  },
  {
   "cell_type": "code",
   "execution_count": 659,
   "id": "8a7add7a",
   "metadata": {},
   "outputs": [],
   "source": [
    "import numpy as np\n",
    "import pandas as pd\n",
    "import matplotlib.pyplot as plt\n",
    "%matplotlib inline\n",
    "import seaborn as sns\n",
    "\n",
    "import scipy as sc\n",
    "from scipy.stats import norm\n",
    "\n",
    "import statsmodels.formula.api as sm\n",
    "from sklearn import linear_model\n",
    "plt.rcParams['figure.figsize'] = (10, 6)"
   ]
  },
  {
   "cell_type": "markdown",
   "id": "2bdae70f",
   "metadata": {},
   "source": [
    "Energy price source : https://data.tuik.gov.tr/Bulten/Index?p=Consumer-Price-Index-April-2023-49653                                                   \n",
    "Dollar-TL history source : https://tr.investing.com/currencies/usd-try-historical-data"
   ]
  },
  {
   "cell_type": "markdown",
   "id": "6548496d",
   "metadata": {},
   "source": [
    "# Data Clean Part"
   ]
  },
  {
   "cell_type": "code",
   "execution_count": 660,
   "id": "0af02cfb",
   "metadata": {},
   "outputs": [
    {
     "data": {
      "text/html": [
       "<div>\n",
       "<style scoped>\n",
       "    .dataframe tbody tr th:only-of-type {\n",
       "        vertical-align: middle;\n",
       "    }\n",
       "\n",
       "    .dataframe tbody tr th {\n",
       "        vertical-align: top;\n",
       "    }\n",
       "\n",
       "    .dataframe thead th {\n",
       "        text-align: right;\n",
       "    }\n",
       "</style>\n",
       "<table border=\"1\" class=\"dataframe\">\n",
       "  <thead>\n",
       "    <tr style=\"text-align: right;\">\n",
       "      <th></th>\n",
       "      <th>0</th>\n",
       "      <th>1</th>\n",
       "      <th>2</th>\n",
       "      <th>3</th>\n",
       "      <th>4</th>\n",
       "      <th>5</th>\n",
       "      <th>6</th>\n",
       "      <th>7</th>\n",
       "      <th>8</th>\n",
       "      <th>9</th>\n",
       "      <th>10</th>\n",
       "    </tr>\n",
       "  </thead>\n",
       "  <tbody>\n",
       "    <tr>\n",
       "      <th>0</th>\n",
       "      <td>NaN</td>\n",
       "      <td>TL</td>\n",
       "      <td>2013</td>\n",
       "      <td>Ocak</td>\n",
       "      <td>January</td>\n",
       "      <td>0.357</td>\n",
       "      <td>1.0574</td>\n",
       "      <td>395.6659</td>\n",
       "      <td>4.6925</td>\n",
       "      <td>2.6255</td>\n",
       "      <td>4.2301</td>\n",
       "    </tr>\n",
       "    <tr>\n",
       "      <th>1</th>\n",
       "      <td>NaN</td>\n",
       "      <td>TL</td>\n",
       "      <td>2013</td>\n",
       "      <td>Şubat</td>\n",
       "      <td>February</td>\n",
       "      <td>0.357</td>\n",
       "      <td>1.0573</td>\n",
       "      <td>395.6789</td>\n",
       "      <td>4.858</td>\n",
       "      <td>2.62</td>\n",
       "      <td>4.2972</td>\n",
       "    </tr>\n",
       "    <tr>\n",
       "      <th>2</th>\n",
       "      <td>NaN</td>\n",
       "      <td>TL</td>\n",
       "      <td>2013</td>\n",
       "      <td>Mart</td>\n",
       "      <td>March</td>\n",
       "      <td>0.357</td>\n",
       "      <td>1.0578</td>\n",
       "      <td>395.8292</td>\n",
       "      <td>4.771</td>\n",
       "      <td>2.617</td>\n",
       "      <td>4.2769</td>\n",
       "    </tr>\n",
       "    <tr>\n",
       "      <th>3</th>\n",
       "      <td>NaN</td>\n",
       "      <td>TL</td>\n",
       "      <td>2013</td>\n",
       "      <td>Nisan</td>\n",
       "      <td>April</td>\n",
       "      <td>0.3587</td>\n",
       "      <td>1.0585</td>\n",
       "      <td>395.8224</td>\n",
       "      <td>4.6449</td>\n",
       "      <td>2.518</td>\n",
       "      <td>4.1582</td>\n",
       "    </tr>\n",
       "    <tr>\n",
       "      <th>4</th>\n",
       "      <td>NaN</td>\n",
       "      <td>TL</td>\n",
       "      <td>2013</td>\n",
       "      <td>Mayıs</td>\n",
       "      <td>May</td>\n",
       "      <td>0.3588</td>\n",
       "      <td>1.0592</td>\n",
       "      <td>395.8322</td>\n",
       "      <td>4.6416</td>\n",
       "      <td>2.4009</td>\n",
       "      <td>4.1535</td>\n",
       "    </tr>\n",
       "    <tr>\n",
       "      <th>...</th>\n",
       "      <td>...</td>\n",
       "      <td>...</td>\n",
       "      <td>...</td>\n",
       "      <td>...</td>\n",
       "      <td>...</td>\n",
       "      <td>...</td>\n",
       "      <td>...</td>\n",
       "      <td>...</td>\n",
       "      <td>...</td>\n",
       "      <td>...</td>\n",
       "      <td>...</td>\n",
       "    </tr>\n",
       "    <tr>\n",
       "      <th>119</th>\n",
       "      <td>NaN</td>\n",
       "      <td>TL</td>\n",
       "      <td>2022</td>\n",
       "      <td>Aralık</td>\n",
       "      <td>December</td>\n",
       "      <td>1.8455</td>\n",
       "      <td>6.0515</td>\n",
       "      <td>1377.3506</td>\n",
       "      <td>18.7984</td>\n",
       "      <td>10.2782</td>\n",
       "      <td>22.2562</td>\n",
       "    </tr>\n",
       "    <tr>\n",
       "      <th>120</th>\n",
       "      <td>NaN</td>\n",
       "      <td>TL</td>\n",
       "      <td>2023</td>\n",
       "      <td>Ocak</td>\n",
       "      <td>January</td>\n",
       "      <td>1.8459</td>\n",
       "      <td>5.6313</td>\n",
       "      <td>2539.413</td>\n",
       "      <td>20.3082</td>\n",
       "      <td>10.332</td>\n",
       "      <td>22.9381</td>\n",
       "    </tr>\n",
       "    <tr>\n",
       "      <th>121</th>\n",
       "      <td>NaN</td>\n",
       "      <td>TL</td>\n",
       "      <td>2023</td>\n",
       "      <td>Şubat</td>\n",
       "      <td>February</td>\n",
       "      <td>1.8459</td>\n",
       "      <td>5.6406</td>\n",
       "      <td>2539.413</td>\n",
       "      <td>20.9698</td>\n",
       "      <td>11.5277</td>\n",
       "      <td>21.481</td>\n",
       "    </tr>\n",
       "    <tr>\n",
       "      <th>122</th>\n",
       "      <td>NaN</td>\n",
       "      <td>TL</td>\n",
       "      <td>2023</td>\n",
       "      <td>Mart</td>\n",
       "      <td>March</td>\n",
       "      <td>1.8459</td>\n",
       "      <td>5.7837</td>\n",
       "      <td>2539.4171</td>\n",
       "      <td>20.9145</td>\n",
       "      <td>11.5853</td>\n",
       "      <td>21.2818</td>\n",
       "    </tr>\n",
       "    <tr>\n",
       "      <th>123</th>\n",
       "      <td>NaN</td>\n",
       "      <td>TL</td>\n",
       "      <td>2023</td>\n",
       "      <td>Nisan</td>\n",
       "      <td>April</td>\n",
       "      <td>1.569</td>\n",
       "      <td>5.7201</td>\n",
       "      <td>2539.2827</td>\n",
       "      <td>22.4125</td>\n",
       "      <td>9.9309</td>\n",
       "      <td>21.1161</td>\n",
       "    </tr>\n",
       "  </tbody>\n",
       "</table>\n",
       "<p>124 rows × 11 columns</p>\n",
       "</div>"
      ],
      "text/plain": [
       "      0   1     2       3         4       5       6          7        8   \\\n",
       "0    NaN  TL  2013    Ocak   January   0.357  1.0574   395.6659   4.6925   \n",
       "1    NaN  TL  2013   Şubat  February   0.357  1.0573   395.6789    4.858   \n",
       "2    NaN  TL  2013    Mart     March   0.357  1.0578   395.8292    4.771   \n",
       "3    NaN  TL  2013   Nisan     April  0.3587  1.0585   395.8224   4.6449   \n",
       "4    NaN  TL  2013   Mayıs       May  0.3588  1.0592   395.8322   4.6416   \n",
       "..   ...  ..   ...     ...       ...     ...     ...        ...      ...   \n",
       "119  NaN  TL  2022  Aralık  December  1.8455  6.0515  1377.3506  18.7984   \n",
       "120  NaN  TL  2023    Ocak   January  1.8459  5.6313   2539.413  20.3082   \n",
       "121  NaN  TL  2023   Şubat  February  1.8459  5.6406   2539.413  20.9698   \n",
       "122  NaN  TL  2023    Mart     March  1.8459  5.7837  2539.4171  20.9145   \n",
       "123  NaN  TL  2023   Nisan     April   1.569  5.7201  2539.2827  22.4125   \n",
       "\n",
       "          9        10  \n",
       "0     2.6255   4.2301  \n",
       "1       2.62   4.2972  \n",
       "2      2.617   4.2769  \n",
       "3      2.518   4.1582  \n",
       "4     2.4009   4.1535  \n",
       "..       ...      ...  \n",
       "119  10.2782  22.2562  \n",
       "120   10.332  22.9381  \n",
       "121  11.5277   21.481  \n",
       "122  11.5853  21.2818  \n",
       "123   9.9309  21.1161  \n",
       "\n",
       "[124 rows x 11 columns]"
      ]
     },
     "execution_count": 660,
     "metadata": {},
     "output_type": "execute_result"
    }
   ],
   "source": [
    "df = pd.read_excel('consumer.xls')\n",
    "df = df.T\n",
    "df = df[123:] # We want to show 2013 to 2023 datas \n",
    "df.index = range(len(df))\n",
    "df"
   ]
  },
  {
   "cell_type": "code",
   "execution_count": 661,
   "id": "bc535d19",
   "metadata": {
    "scrolled": true
   },
   "outputs": [
    {
     "data": {
      "text/html": [
       "<div>\n",
       "<style scoped>\n",
       "    .dataframe tbody tr th:only-of-type {\n",
       "        vertical-align: middle;\n",
       "    }\n",
       "\n",
       "    .dataframe tbody tr th {\n",
       "        vertical-align: top;\n",
       "    }\n",
       "\n",
       "    .dataframe thead th {\n",
       "        text-align: right;\n",
       "    }\n",
       "</style>\n",
       "<table border=\"1\" class=\"dataframe\">\n",
       "  <thead>\n",
       "    <tr style=\"text-align: right;\">\n",
       "      <th></th>\n",
       "      <th>Tarih</th>\n",
       "      <th>Şimdi</th>\n",
       "      <th>Açılış</th>\n",
       "      <th>Yüksek</th>\n",
       "      <th>Düşük</th>\n",
       "      <th>Hac.</th>\n",
       "      <th>Fark %</th>\n",
       "    </tr>\n",
       "  </thead>\n",
       "  <tbody>\n",
       "    <tr>\n",
       "      <th>0</th>\n",
       "      <td>01.04.2023</td>\n",
       "      <td>19,4530</td>\n",
       "      <td>19,1863</td>\n",
       "      <td>19,7168</td>\n",
       "      <td>19,1750</td>\n",
       "      <td>NaN</td>\n",
       "      <td>1,43%</td>\n",
       "    </tr>\n",
       "    <tr>\n",
       "      <th>1</th>\n",
       "      <td>01.03.2023</td>\n",
       "      <td>19,1793</td>\n",
       "      <td>18,8872</td>\n",
       "      <td>19,4223</td>\n",
       "      <td>18,6888</td>\n",
       "      <td>NaN</td>\n",
       "      <td>1,54%</td>\n",
       "    </tr>\n",
       "    <tr>\n",
       "      <th>2</th>\n",
       "      <td>01.02.2023</td>\n",
       "      <td>18,8875</td>\n",
       "      <td>18,8100</td>\n",
       "      <td>19,3037</td>\n",
       "      <td>18,7590</td>\n",
       "      <td>NaN</td>\n",
       "      <td>0,40%</td>\n",
       "    </tr>\n",
       "    <tr>\n",
       "      <th>3</th>\n",
       "      <td>01.01.2023</td>\n",
       "      <td>18,8115</td>\n",
       "      <td>18,6986</td>\n",
       "      <td>18,8578</td>\n",
       "      <td>18,5281</td>\n",
       "      <td>NaN</td>\n",
       "      <td>0,65%</td>\n",
       "    </tr>\n",
       "    <tr>\n",
       "      <th>4</th>\n",
       "      <td>01.12.2022</td>\n",
       "      <td>18,6905</td>\n",
       "      <td>18,5922</td>\n",
       "      <td>18,7970</td>\n",
       "      <td>18,4152</td>\n",
       "      <td>NaN</td>\n",
       "      <td>0,42%</td>\n",
       "    </tr>\n",
       "    <tr>\n",
       "      <th>...</th>\n",
       "      <td>...</td>\n",
       "      <td>...</td>\n",
       "      <td>...</td>\n",
       "      <td>...</td>\n",
       "      <td>...</td>\n",
       "      <td>...</td>\n",
       "      <td>...</td>\n",
       "    </tr>\n",
       "    <tr>\n",
       "      <th>119</th>\n",
       "      <td>01.05.2013</td>\n",
       "      <td>1,8756</td>\n",
       "      <td>1,7918</td>\n",
       "      <td>1,8978</td>\n",
       "      <td>1,7848</td>\n",
       "      <td>NaN</td>\n",
       "      <td>4,61%</td>\n",
       "    </tr>\n",
       "    <tr>\n",
       "      <th>120</th>\n",
       "      <td>01.04.2013</td>\n",
       "      <td>1,7930</td>\n",
       "      <td>1,8111</td>\n",
       "      <td>1,8170</td>\n",
       "      <td>1,7797</td>\n",
       "      <td>NaN</td>\n",
       "      <td>-0,88%</td>\n",
       "    </tr>\n",
       "    <tr>\n",
       "      <th>121</th>\n",
       "      <td>01.03.2013</td>\n",
       "      <td>1,8090</td>\n",
       "      <td>1,7994</td>\n",
       "      <td>1,8281</td>\n",
       "      <td>1,7885</td>\n",
       "      <td>NaN</td>\n",
       "      <td>0,58%</td>\n",
       "    </tr>\n",
       "    <tr>\n",
       "      <th>122</th>\n",
       "      <td>01.02.2013</td>\n",
       "      <td>1,7985</td>\n",
       "      <td>1,7575</td>\n",
       "      <td>1,8152</td>\n",
       "      <td>1,7426</td>\n",
       "      <td>NaN</td>\n",
       "      <td>2,25%</td>\n",
       "    </tr>\n",
       "    <tr>\n",
       "      <th>123</th>\n",
       "      <td>01.01.2013</td>\n",
       "      <td>1,7589</td>\n",
       "      <td>1,7837</td>\n",
       "      <td>1,7926</td>\n",
       "      <td>1,7518</td>\n",
       "      <td>NaN</td>\n",
       "      <td>-1,39%</td>\n",
       "    </tr>\n",
       "  </tbody>\n",
       "</table>\n",
       "<p>124 rows × 7 columns</p>\n",
       "</div>"
      ],
      "text/plain": [
       "          Tarih    Şimdi   Açılış   Yüksek    Düşük  Hac.  Fark %\n",
       "0    01.04.2023  19,4530  19,1863  19,7168  19,1750   NaN   1,43%\n",
       "1    01.03.2023  19,1793  18,8872  19,4223  18,6888   NaN   1,54%\n",
       "2    01.02.2023  18,8875  18,8100  19,3037  18,7590   NaN   0,40%\n",
       "3    01.01.2023  18,8115  18,6986  18,8578  18,5281   NaN   0,65%\n",
       "4    01.12.2022  18,6905  18,5922  18,7970  18,4152   NaN   0,42%\n",
       "..          ...      ...      ...      ...      ...   ...     ...\n",
       "119  01.05.2013   1,8756   1,7918   1,8978   1,7848   NaN   4,61%\n",
       "120  01.04.2013   1,7930   1,8111   1,8170   1,7797   NaN  -0,88%\n",
       "121  01.03.2013   1,8090   1,7994   1,8281   1,7885   NaN   0,58%\n",
       "122  01.02.2013   1,7985   1,7575   1,8152   1,7426   NaN   2,25%\n",
       "123  01.01.2013   1,7589   1,7837   1,7926   1,7518   NaN  -1,39%\n",
       "\n",
       "[124 rows x 7 columns]"
      ]
     },
     "execution_count": 661,
     "metadata": {},
     "output_type": "execute_result"
    }
   ],
   "source": [
    "dolar = pd.read_csv('USD.csv')\n",
    "dolar"
   ]
  },
  {
   "cell_type": "code",
   "execution_count": 662,
   "id": "14582e78",
   "metadata": {},
   "outputs": [
    {
     "data": {
      "text/html": [
       "<div>\n",
       "<style scoped>\n",
       "    .dataframe tbody tr th:only-of-type {\n",
       "        vertical-align: middle;\n",
       "    }\n",
       "\n",
       "    .dataframe tbody tr th {\n",
       "        vertical-align: top;\n",
       "    }\n",
       "\n",
       "    .dataframe thead th {\n",
       "        text-align: right;\n",
       "    }\n",
       "</style>\n",
       "<table border=\"1\" class=\"dataframe\">\n",
       "  <thead>\n",
       "    <tr style=\"text-align: right;\">\n",
       "      <th></th>\n",
       "      <th>Tarih</th>\n",
       "      <th>Şimdi</th>\n",
       "      <th>Açılış</th>\n",
       "      <th>Yüksek</th>\n",
       "      <th>Düşük</th>\n",
       "      <th>Hac.</th>\n",
       "      <th>Fark %</th>\n",
       "    </tr>\n",
       "  </thead>\n",
       "  <tbody>\n",
       "    <tr>\n",
       "      <th>0</th>\n",
       "      <td>01.01.2013</td>\n",
       "      <td>1,7589</td>\n",
       "      <td>1,7837</td>\n",
       "      <td>1,7926</td>\n",
       "      <td>1,7518</td>\n",
       "      <td>NaN</td>\n",
       "      <td>-1,39%</td>\n",
       "    </tr>\n",
       "    <tr>\n",
       "      <th>1</th>\n",
       "      <td>01.02.2013</td>\n",
       "      <td>1,7985</td>\n",
       "      <td>1,7575</td>\n",
       "      <td>1,8152</td>\n",
       "      <td>1,7426</td>\n",
       "      <td>NaN</td>\n",
       "      <td>2,25%</td>\n",
       "    </tr>\n",
       "    <tr>\n",
       "      <th>2</th>\n",
       "      <td>01.03.2013</td>\n",
       "      <td>1,8090</td>\n",
       "      <td>1,7994</td>\n",
       "      <td>1,8281</td>\n",
       "      <td>1,7885</td>\n",
       "      <td>NaN</td>\n",
       "      <td>0,58%</td>\n",
       "    </tr>\n",
       "    <tr>\n",
       "      <th>3</th>\n",
       "      <td>01.04.2013</td>\n",
       "      <td>1,7930</td>\n",
       "      <td>1,8111</td>\n",
       "      <td>1,8170</td>\n",
       "      <td>1,7797</td>\n",
       "      <td>NaN</td>\n",
       "      <td>-0,88%</td>\n",
       "    </tr>\n",
       "    <tr>\n",
       "      <th>4</th>\n",
       "      <td>01.05.2013</td>\n",
       "      <td>1,8756</td>\n",
       "      <td>1,7918</td>\n",
       "      <td>1,8978</td>\n",
       "      <td>1,7848</td>\n",
       "      <td>NaN</td>\n",
       "      <td>4,61%</td>\n",
       "    </tr>\n",
       "    <tr>\n",
       "      <th>...</th>\n",
       "      <td>...</td>\n",
       "      <td>...</td>\n",
       "      <td>...</td>\n",
       "      <td>...</td>\n",
       "      <td>...</td>\n",
       "      <td>...</td>\n",
       "      <td>...</td>\n",
       "    </tr>\n",
       "    <tr>\n",
       "      <th>119</th>\n",
       "      <td>01.12.2022</td>\n",
       "      <td>18,6905</td>\n",
       "      <td>18,5922</td>\n",
       "      <td>18,7970</td>\n",
       "      <td>18,4152</td>\n",
       "      <td>NaN</td>\n",
       "      <td>0,42%</td>\n",
       "    </tr>\n",
       "    <tr>\n",
       "      <th>120</th>\n",
       "      <td>01.01.2023</td>\n",
       "      <td>18,8115</td>\n",
       "      <td>18,6986</td>\n",
       "      <td>18,8578</td>\n",
       "      <td>18,5281</td>\n",
       "      <td>NaN</td>\n",
       "      <td>0,65%</td>\n",
       "    </tr>\n",
       "    <tr>\n",
       "      <th>121</th>\n",
       "      <td>01.02.2023</td>\n",
       "      <td>18,8875</td>\n",
       "      <td>18,8100</td>\n",
       "      <td>19,3037</td>\n",
       "      <td>18,7590</td>\n",
       "      <td>NaN</td>\n",
       "      <td>0,40%</td>\n",
       "    </tr>\n",
       "    <tr>\n",
       "      <th>122</th>\n",
       "      <td>01.03.2023</td>\n",
       "      <td>19,1793</td>\n",
       "      <td>18,8872</td>\n",
       "      <td>19,4223</td>\n",
       "      <td>18,6888</td>\n",
       "      <td>NaN</td>\n",
       "      <td>1,54%</td>\n",
       "    </tr>\n",
       "    <tr>\n",
       "      <th>123</th>\n",
       "      <td>01.04.2023</td>\n",
       "      <td>19,4530</td>\n",
       "      <td>19,1863</td>\n",
       "      <td>19,7168</td>\n",
       "      <td>19,1750</td>\n",
       "      <td>NaN</td>\n",
       "      <td>1,43%</td>\n",
       "    </tr>\n",
       "  </tbody>\n",
       "</table>\n",
       "<p>124 rows × 7 columns</p>\n",
       "</div>"
      ],
      "text/plain": [
       "          Tarih    Şimdi   Açılış   Yüksek    Düşük  Hac.  Fark %\n",
       "0    01.01.2013   1,7589   1,7837   1,7926   1,7518   NaN  -1,39%\n",
       "1    01.02.2013   1,7985   1,7575   1,8152   1,7426   NaN   2,25%\n",
       "2    01.03.2013   1,8090   1,7994   1,8281   1,7885   NaN   0,58%\n",
       "3    01.04.2013   1,7930   1,8111   1,8170   1,7797   NaN  -0,88%\n",
       "4    01.05.2013   1,8756   1,7918   1,8978   1,7848   NaN   4,61%\n",
       "..          ...      ...      ...      ...      ...   ...     ...\n",
       "119  01.12.2022  18,6905  18,5922  18,7970  18,4152   NaN   0,42%\n",
       "120  01.01.2023  18,8115  18,6986  18,8578  18,5281   NaN   0,65%\n",
       "121  01.02.2023  18,8875  18,8100  19,3037  18,7590   NaN   0,40%\n",
       "122  01.03.2023  19,1793  18,8872  19,4223  18,6888   NaN   1,54%\n",
       "123  01.04.2023  19,4530  19,1863  19,7168  19,1750   NaN   1,43%\n",
       "\n",
       "[124 rows x 7 columns]"
      ]
     },
     "execution_count": 662,
     "metadata": {},
     "output_type": "execute_result"
    }
   ],
   "source": [
    "dolar = dolar[::-1]\n",
    "dolar.index = range(len(dolar))\n",
    "dolar"
   ]
  },
  {
   "cell_type": "code",
   "execution_count": 663,
   "id": "a0d4c271",
   "metadata": {},
   "outputs": [
    {
     "data": {
      "text/html": [
       "<div>\n",
       "<style scoped>\n",
       "    .dataframe tbody tr th:only-of-type {\n",
       "        vertical-align: middle;\n",
       "    }\n",
       "\n",
       "    .dataframe tbody tr th {\n",
       "        vertical-align: top;\n",
       "    }\n",
       "\n",
       "    .dataframe thead th {\n",
       "        text-align: right;\n",
       "    }\n",
       "</style>\n",
       "<table border=\"1\" class=\"dataframe\">\n",
       "  <thead>\n",
       "    <tr style=\"text-align: right;\">\n",
       "      <th></th>\n",
       "      <th>A</th>\n",
       "      <th>B</th>\n",
       "      <th>C</th>\n",
       "      <th>D</th>\n",
       "      <th>E</th>\n",
       "      <th>Electricity_Fee</th>\n",
       "      <th>Natural_Gas_Fee</th>\n",
       "      <th>Natural-Gas-Subsc-Fee</th>\n",
       "      <th>Petrol</th>\n",
       "      <th>LPG</th>\n",
       "      <th>Diesel</th>\n",
       "    </tr>\n",
       "  </thead>\n",
       "  <tbody>\n",
       "    <tr>\n",
       "      <th>0</th>\n",
       "      <td>NaN</td>\n",
       "      <td>TL</td>\n",
       "      <td>2013</td>\n",
       "      <td>Ocak</td>\n",
       "      <td>January</td>\n",
       "      <td>0.357</td>\n",
       "      <td>1.0574</td>\n",
       "      <td>395.6659</td>\n",
       "      <td>4.6925</td>\n",
       "      <td>2.6255</td>\n",
       "      <td>4.2301</td>\n",
       "    </tr>\n",
       "    <tr>\n",
       "      <th>1</th>\n",
       "      <td>NaN</td>\n",
       "      <td>TL</td>\n",
       "      <td>2013</td>\n",
       "      <td>Şubat</td>\n",
       "      <td>February</td>\n",
       "      <td>0.357</td>\n",
       "      <td>1.0573</td>\n",
       "      <td>395.6789</td>\n",
       "      <td>4.858</td>\n",
       "      <td>2.62</td>\n",
       "      <td>4.2972</td>\n",
       "    </tr>\n",
       "    <tr>\n",
       "      <th>2</th>\n",
       "      <td>NaN</td>\n",
       "      <td>TL</td>\n",
       "      <td>2013</td>\n",
       "      <td>Mart</td>\n",
       "      <td>March</td>\n",
       "      <td>0.357</td>\n",
       "      <td>1.0578</td>\n",
       "      <td>395.8292</td>\n",
       "      <td>4.771</td>\n",
       "      <td>2.617</td>\n",
       "      <td>4.2769</td>\n",
       "    </tr>\n",
       "    <tr>\n",
       "      <th>3</th>\n",
       "      <td>NaN</td>\n",
       "      <td>TL</td>\n",
       "      <td>2013</td>\n",
       "      <td>Nisan</td>\n",
       "      <td>April</td>\n",
       "      <td>0.3587</td>\n",
       "      <td>1.0585</td>\n",
       "      <td>395.8224</td>\n",
       "      <td>4.6449</td>\n",
       "      <td>2.518</td>\n",
       "      <td>4.1582</td>\n",
       "    </tr>\n",
       "    <tr>\n",
       "      <th>4</th>\n",
       "      <td>NaN</td>\n",
       "      <td>TL</td>\n",
       "      <td>2013</td>\n",
       "      <td>Mayıs</td>\n",
       "      <td>May</td>\n",
       "      <td>0.3588</td>\n",
       "      <td>1.0592</td>\n",
       "      <td>395.8322</td>\n",
       "      <td>4.6416</td>\n",
       "      <td>2.4009</td>\n",
       "      <td>4.1535</td>\n",
       "    </tr>\n",
       "    <tr>\n",
       "      <th>...</th>\n",
       "      <td>...</td>\n",
       "      <td>...</td>\n",
       "      <td>...</td>\n",
       "      <td>...</td>\n",
       "      <td>...</td>\n",
       "      <td>...</td>\n",
       "      <td>...</td>\n",
       "      <td>...</td>\n",
       "      <td>...</td>\n",
       "      <td>...</td>\n",
       "      <td>...</td>\n",
       "    </tr>\n",
       "    <tr>\n",
       "      <th>119</th>\n",
       "      <td>NaN</td>\n",
       "      <td>TL</td>\n",
       "      <td>2022</td>\n",
       "      <td>Aralık</td>\n",
       "      <td>December</td>\n",
       "      <td>1.8455</td>\n",
       "      <td>6.0515</td>\n",
       "      <td>1377.3506</td>\n",
       "      <td>18.7984</td>\n",
       "      <td>10.2782</td>\n",
       "      <td>22.2562</td>\n",
       "    </tr>\n",
       "    <tr>\n",
       "      <th>120</th>\n",
       "      <td>NaN</td>\n",
       "      <td>TL</td>\n",
       "      <td>2023</td>\n",
       "      <td>Ocak</td>\n",
       "      <td>January</td>\n",
       "      <td>1.8459</td>\n",
       "      <td>5.6313</td>\n",
       "      <td>2539.413</td>\n",
       "      <td>20.3082</td>\n",
       "      <td>10.332</td>\n",
       "      <td>22.9381</td>\n",
       "    </tr>\n",
       "    <tr>\n",
       "      <th>121</th>\n",
       "      <td>NaN</td>\n",
       "      <td>TL</td>\n",
       "      <td>2023</td>\n",
       "      <td>Şubat</td>\n",
       "      <td>February</td>\n",
       "      <td>1.8459</td>\n",
       "      <td>5.6406</td>\n",
       "      <td>2539.413</td>\n",
       "      <td>20.9698</td>\n",
       "      <td>11.5277</td>\n",
       "      <td>21.481</td>\n",
       "    </tr>\n",
       "    <tr>\n",
       "      <th>122</th>\n",
       "      <td>NaN</td>\n",
       "      <td>TL</td>\n",
       "      <td>2023</td>\n",
       "      <td>Mart</td>\n",
       "      <td>March</td>\n",
       "      <td>1.8459</td>\n",
       "      <td>5.7837</td>\n",
       "      <td>2539.4171</td>\n",
       "      <td>20.9145</td>\n",
       "      <td>11.5853</td>\n",
       "      <td>21.2818</td>\n",
       "    </tr>\n",
       "    <tr>\n",
       "      <th>123</th>\n",
       "      <td>NaN</td>\n",
       "      <td>TL</td>\n",
       "      <td>2023</td>\n",
       "      <td>Nisan</td>\n",
       "      <td>April</td>\n",
       "      <td>1.569</td>\n",
       "      <td>5.7201</td>\n",
       "      <td>2539.2827</td>\n",
       "      <td>22.4125</td>\n",
       "      <td>9.9309</td>\n",
       "      <td>21.1161</td>\n",
       "    </tr>\n",
       "  </tbody>\n",
       "</table>\n",
       "<p>124 rows × 11 columns</p>\n",
       "</div>"
      ],
      "text/plain": [
       "       A   B     C       D         E Electricity_Fee Natural_Gas_Fee  \\\n",
       "0    NaN  TL  2013    Ocak   January           0.357          1.0574   \n",
       "1    NaN  TL  2013   Şubat  February           0.357          1.0573   \n",
       "2    NaN  TL  2013    Mart     March           0.357          1.0578   \n",
       "3    NaN  TL  2013   Nisan     April          0.3587          1.0585   \n",
       "4    NaN  TL  2013   Mayıs       May          0.3588          1.0592   \n",
       "..   ...  ..   ...     ...       ...             ...             ...   \n",
       "119  NaN  TL  2022  Aralık  December          1.8455          6.0515   \n",
       "120  NaN  TL  2023    Ocak   January          1.8459          5.6313   \n",
       "121  NaN  TL  2023   Şubat  February          1.8459          5.6406   \n",
       "122  NaN  TL  2023    Mart     March          1.8459          5.7837   \n",
       "123  NaN  TL  2023   Nisan     April           1.569          5.7201   \n",
       "\n",
       "    Natural-Gas-Subsc-Fee   Petrol      LPG   Diesel  \n",
       "0                395.6659   4.6925   2.6255   4.2301  \n",
       "1                395.6789    4.858     2.62   4.2972  \n",
       "2                395.8292    4.771    2.617   4.2769  \n",
       "3                395.8224   4.6449    2.518   4.1582  \n",
       "4                395.8322   4.6416   2.4009   4.1535  \n",
       "..                    ...      ...      ...      ...  \n",
       "119             1377.3506  18.7984  10.2782  22.2562  \n",
       "120              2539.413  20.3082   10.332  22.9381  \n",
       "121              2539.413  20.9698  11.5277   21.481  \n",
       "122             2539.4171  20.9145  11.5853  21.2818  \n",
       "123             2539.2827  22.4125   9.9309  21.1161  \n",
       "\n",
       "[124 rows x 11 columns]"
      ]
     },
     "execution_count": 663,
     "metadata": {},
     "output_type": "execute_result"
    }
   ],
   "source": [
    "df = df.rename(columns={0: 'A', 1: 'B', 2: 'C', 3: 'D' ,4: 'E', 5: 'Electricity_Fee', 6: 'Natural_Gas_Fee',\n",
    "                       7: 'Natural-Gas-Subsc-Fee', 8: 'Petrol', 9: 'LPG', 10: 'Diesel'})\n",
    "df"
   ]
  },
  {
   "cell_type": "code",
   "execution_count": 664,
   "id": "37ace007",
   "metadata": {},
   "outputs": [
    {
     "data": {
      "text/html": [
       "<div>\n",
       "<style scoped>\n",
       "    .dataframe tbody tr th:only-of-type {\n",
       "        vertical-align: middle;\n",
       "    }\n",
       "\n",
       "    .dataframe tbody tr th {\n",
       "        vertical-align: top;\n",
       "    }\n",
       "\n",
       "    .dataframe thead th {\n",
       "        text-align: right;\n",
       "    }\n",
       "</style>\n",
       "<table border=\"1\" class=\"dataframe\">\n",
       "  <thead>\n",
       "    <tr style=\"text-align: right;\">\n",
       "      <th></th>\n",
       "      <th>C</th>\n",
       "      <th>D</th>\n",
       "      <th>E</th>\n",
       "      <th>Electricity_Fee</th>\n",
       "      <th>Natural_Gas_Fee</th>\n",
       "      <th>Petrol</th>\n",
       "      <th>LPG</th>\n",
       "      <th>Diesel</th>\n",
       "    </tr>\n",
       "  </thead>\n",
       "  <tbody>\n",
       "    <tr>\n",
       "      <th>0</th>\n",
       "      <td>2013</td>\n",
       "      <td>Ocak</td>\n",
       "      <td>January</td>\n",
       "      <td>0.357</td>\n",
       "      <td>1.0574</td>\n",
       "      <td>4.6925</td>\n",
       "      <td>2.6255</td>\n",
       "      <td>4.2301</td>\n",
       "    </tr>\n",
       "    <tr>\n",
       "      <th>1</th>\n",
       "      <td>2013</td>\n",
       "      <td>Şubat</td>\n",
       "      <td>February</td>\n",
       "      <td>0.357</td>\n",
       "      <td>1.0573</td>\n",
       "      <td>4.858</td>\n",
       "      <td>2.62</td>\n",
       "      <td>4.2972</td>\n",
       "    </tr>\n",
       "    <tr>\n",
       "      <th>2</th>\n",
       "      <td>2013</td>\n",
       "      <td>Mart</td>\n",
       "      <td>March</td>\n",
       "      <td>0.357</td>\n",
       "      <td>1.0578</td>\n",
       "      <td>4.771</td>\n",
       "      <td>2.617</td>\n",
       "      <td>4.2769</td>\n",
       "    </tr>\n",
       "    <tr>\n",
       "      <th>3</th>\n",
       "      <td>2013</td>\n",
       "      <td>Nisan</td>\n",
       "      <td>April</td>\n",
       "      <td>0.3587</td>\n",
       "      <td>1.0585</td>\n",
       "      <td>4.6449</td>\n",
       "      <td>2.518</td>\n",
       "      <td>4.1582</td>\n",
       "    </tr>\n",
       "    <tr>\n",
       "      <th>4</th>\n",
       "      <td>2013</td>\n",
       "      <td>Mayıs</td>\n",
       "      <td>May</td>\n",
       "      <td>0.3588</td>\n",
       "      <td>1.0592</td>\n",
       "      <td>4.6416</td>\n",
       "      <td>2.4009</td>\n",
       "      <td>4.1535</td>\n",
       "    </tr>\n",
       "    <tr>\n",
       "      <th>...</th>\n",
       "      <td>...</td>\n",
       "      <td>...</td>\n",
       "      <td>...</td>\n",
       "      <td>...</td>\n",
       "      <td>...</td>\n",
       "      <td>...</td>\n",
       "      <td>...</td>\n",
       "      <td>...</td>\n",
       "    </tr>\n",
       "    <tr>\n",
       "      <th>119</th>\n",
       "      <td>2022</td>\n",
       "      <td>Aralık</td>\n",
       "      <td>December</td>\n",
       "      <td>1.8455</td>\n",
       "      <td>6.0515</td>\n",
       "      <td>18.7984</td>\n",
       "      <td>10.2782</td>\n",
       "      <td>22.2562</td>\n",
       "    </tr>\n",
       "    <tr>\n",
       "      <th>120</th>\n",
       "      <td>2023</td>\n",
       "      <td>Ocak</td>\n",
       "      <td>January</td>\n",
       "      <td>1.8459</td>\n",
       "      <td>5.6313</td>\n",
       "      <td>20.3082</td>\n",
       "      <td>10.332</td>\n",
       "      <td>22.9381</td>\n",
       "    </tr>\n",
       "    <tr>\n",
       "      <th>121</th>\n",
       "      <td>2023</td>\n",
       "      <td>Şubat</td>\n",
       "      <td>February</td>\n",
       "      <td>1.8459</td>\n",
       "      <td>5.6406</td>\n",
       "      <td>20.9698</td>\n",
       "      <td>11.5277</td>\n",
       "      <td>21.481</td>\n",
       "    </tr>\n",
       "    <tr>\n",
       "      <th>122</th>\n",
       "      <td>2023</td>\n",
       "      <td>Mart</td>\n",
       "      <td>March</td>\n",
       "      <td>1.8459</td>\n",
       "      <td>5.7837</td>\n",
       "      <td>20.9145</td>\n",
       "      <td>11.5853</td>\n",
       "      <td>21.2818</td>\n",
       "    </tr>\n",
       "    <tr>\n",
       "      <th>123</th>\n",
       "      <td>2023</td>\n",
       "      <td>Nisan</td>\n",
       "      <td>April</td>\n",
       "      <td>1.569</td>\n",
       "      <td>5.7201</td>\n",
       "      <td>22.4125</td>\n",
       "      <td>9.9309</td>\n",
       "      <td>21.1161</td>\n",
       "    </tr>\n",
       "  </tbody>\n",
       "</table>\n",
       "<p>124 rows × 8 columns</p>\n",
       "</div>"
      ],
      "text/plain": [
       "        C       D         E Electricity_Fee Natural_Gas_Fee   Petrol      LPG  \\\n",
       "0    2013    Ocak   January           0.357          1.0574   4.6925   2.6255   \n",
       "1    2013   Şubat  February           0.357          1.0573    4.858     2.62   \n",
       "2    2013    Mart     March           0.357          1.0578    4.771    2.617   \n",
       "3    2013   Nisan     April          0.3587          1.0585   4.6449    2.518   \n",
       "4    2013   Mayıs       May          0.3588          1.0592   4.6416   2.4009   \n",
       "..    ...     ...       ...             ...             ...      ...      ...   \n",
       "119  2022  Aralık  December          1.8455          6.0515  18.7984  10.2782   \n",
       "120  2023    Ocak   January          1.8459          5.6313  20.3082   10.332   \n",
       "121  2023   Şubat  February          1.8459          5.6406  20.9698  11.5277   \n",
       "122  2023    Mart     March          1.8459          5.7837  20.9145  11.5853   \n",
       "123  2023   Nisan     April           1.569          5.7201  22.4125   9.9309   \n",
       "\n",
       "      Diesel  \n",
       "0     4.2301  \n",
       "1     4.2972  \n",
       "2     4.2769  \n",
       "3     4.1582  \n",
       "4     4.1535  \n",
       "..       ...  \n",
       "119  22.2562  \n",
       "120  22.9381  \n",
       "121   21.481  \n",
       "122  21.2818  \n",
       "123  21.1161  \n",
       "\n",
       "[124 rows x 8 columns]"
      ]
     },
     "execution_count": 664,
     "metadata": {},
     "output_type": "execute_result"
    }
   ],
   "source": [
    "df = df.drop(columns = ['A'])\n",
    "df = df.drop(columns = ['B'])\n",
    "df = df.drop(columns = ['Natural-Gas-Subsc-Fee'])\n",
    "df"
   ]
  },
  {
   "cell_type": "code",
   "execution_count": 665,
   "id": "5da3acf4",
   "metadata": {},
   "outputs": [
    {
     "data": {
      "text/html": [
       "<div>\n",
       "<style scoped>\n",
       "    .dataframe tbody tr th:only-of-type {\n",
       "        vertical-align: middle;\n",
       "    }\n",
       "\n",
       "    .dataframe tbody tr th {\n",
       "        vertical-align: top;\n",
       "    }\n",
       "\n",
       "    .dataframe thead th {\n",
       "        text-align: right;\n",
       "    }\n",
       "</style>\n",
       "<table border=\"1\" class=\"dataframe\">\n",
       "  <thead>\n",
       "    <tr style=\"text-align: right;\">\n",
       "      <th></th>\n",
       "      <th>C</th>\n",
       "      <th>D</th>\n",
       "      <th>E</th>\n",
       "      <th>Electricity_Fee</th>\n",
       "      <th>Natural_Gas_Fee</th>\n",
       "      <th>Petrol</th>\n",
       "      <th>LPG</th>\n",
       "      <th>Diesel</th>\n",
       "      <th>Date</th>\n",
       "    </tr>\n",
       "  </thead>\n",
       "  <tbody>\n",
       "    <tr>\n",
       "      <th>0</th>\n",
       "      <td>2013</td>\n",
       "      <td>Ocak</td>\n",
       "      <td>January</td>\n",
       "      <td>0.357</td>\n",
       "      <td>1.0574</td>\n",
       "      <td>4.6925</td>\n",
       "      <td>2.6255</td>\n",
       "      <td>4.2301</td>\n",
       "      <td>2013 January</td>\n",
       "    </tr>\n",
       "    <tr>\n",
       "      <th>1</th>\n",
       "      <td>2013</td>\n",
       "      <td>Şubat</td>\n",
       "      <td>February</td>\n",
       "      <td>0.357</td>\n",
       "      <td>1.0573</td>\n",
       "      <td>4.858</td>\n",
       "      <td>2.62</td>\n",
       "      <td>4.2972</td>\n",
       "      <td>2013 February</td>\n",
       "    </tr>\n",
       "    <tr>\n",
       "      <th>2</th>\n",
       "      <td>2013</td>\n",
       "      <td>Mart</td>\n",
       "      <td>March</td>\n",
       "      <td>0.357</td>\n",
       "      <td>1.0578</td>\n",
       "      <td>4.771</td>\n",
       "      <td>2.617</td>\n",
       "      <td>4.2769</td>\n",
       "      <td>2013 March</td>\n",
       "    </tr>\n",
       "    <tr>\n",
       "      <th>3</th>\n",
       "      <td>2013</td>\n",
       "      <td>Nisan</td>\n",
       "      <td>April</td>\n",
       "      <td>0.3587</td>\n",
       "      <td>1.0585</td>\n",
       "      <td>4.6449</td>\n",
       "      <td>2.518</td>\n",
       "      <td>4.1582</td>\n",
       "      <td>2013 April</td>\n",
       "    </tr>\n",
       "    <tr>\n",
       "      <th>4</th>\n",
       "      <td>2013</td>\n",
       "      <td>Mayıs</td>\n",
       "      <td>May</td>\n",
       "      <td>0.3588</td>\n",
       "      <td>1.0592</td>\n",
       "      <td>4.6416</td>\n",
       "      <td>2.4009</td>\n",
       "      <td>4.1535</td>\n",
       "      <td>2013 May</td>\n",
       "    </tr>\n",
       "    <tr>\n",
       "      <th>...</th>\n",
       "      <td>...</td>\n",
       "      <td>...</td>\n",
       "      <td>...</td>\n",
       "      <td>...</td>\n",
       "      <td>...</td>\n",
       "      <td>...</td>\n",
       "      <td>...</td>\n",
       "      <td>...</td>\n",
       "      <td>...</td>\n",
       "    </tr>\n",
       "    <tr>\n",
       "      <th>119</th>\n",
       "      <td>2022</td>\n",
       "      <td>Aralık</td>\n",
       "      <td>December</td>\n",
       "      <td>1.8455</td>\n",
       "      <td>6.0515</td>\n",
       "      <td>18.7984</td>\n",
       "      <td>10.2782</td>\n",
       "      <td>22.2562</td>\n",
       "      <td>2022 December</td>\n",
       "    </tr>\n",
       "    <tr>\n",
       "      <th>120</th>\n",
       "      <td>2023</td>\n",
       "      <td>Ocak</td>\n",
       "      <td>January</td>\n",
       "      <td>1.8459</td>\n",
       "      <td>5.6313</td>\n",
       "      <td>20.3082</td>\n",
       "      <td>10.332</td>\n",
       "      <td>22.9381</td>\n",
       "      <td>2023 January</td>\n",
       "    </tr>\n",
       "    <tr>\n",
       "      <th>121</th>\n",
       "      <td>2023</td>\n",
       "      <td>Şubat</td>\n",
       "      <td>February</td>\n",
       "      <td>1.8459</td>\n",
       "      <td>5.6406</td>\n",
       "      <td>20.9698</td>\n",
       "      <td>11.5277</td>\n",
       "      <td>21.481</td>\n",
       "      <td>2023 February</td>\n",
       "    </tr>\n",
       "    <tr>\n",
       "      <th>122</th>\n",
       "      <td>2023</td>\n",
       "      <td>Mart</td>\n",
       "      <td>March</td>\n",
       "      <td>1.8459</td>\n",
       "      <td>5.7837</td>\n",
       "      <td>20.9145</td>\n",
       "      <td>11.5853</td>\n",
       "      <td>21.2818</td>\n",
       "      <td>2023 March</td>\n",
       "    </tr>\n",
       "    <tr>\n",
       "      <th>123</th>\n",
       "      <td>2023</td>\n",
       "      <td>Nisan</td>\n",
       "      <td>April</td>\n",
       "      <td>1.569</td>\n",
       "      <td>5.7201</td>\n",
       "      <td>22.4125</td>\n",
       "      <td>9.9309</td>\n",
       "      <td>21.1161</td>\n",
       "      <td>2023 April</td>\n",
       "    </tr>\n",
       "  </tbody>\n",
       "</table>\n",
       "<p>124 rows × 9 columns</p>\n",
       "</div>"
      ],
      "text/plain": [
       "        C       D         E Electricity_Fee Natural_Gas_Fee   Petrol      LPG  \\\n",
       "0    2013    Ocak   January           0.357          1.0574   4.6925   2.6255   \n",
       "1    2013   Şubat  February           0.357          1.0573    4.858     2.62   \n",
       "2    2013    Mart     March           0.357          1.0578    4.771    2.617   \n",
       "3    2013   Nisan     April          0.3587          1.0585   4.6449    2.518   \n",
       "4    2013   Mayıs       May          0.3588          1.0592   4.6416   2.4009   \n",
       "..    ...     ...       ...             ...             ...      ...      ...   \n",
       "119  2022  Aralık  December          1.8455          6.0515  18.7984  10.2782   \n",
       "120  2023    Ocak   January          1.8459          5.6313  20.3082   10.332   \n",
       "121  2023   Şubat  February          1.8459          5.6406  20.9698  11.5277   \n",
       "122  2023    Mart     March          1.8459          5.7837  20.9145  11.5853   \n",
       "123  2023   Nisan     April           1.569          5.7201  22.4125   9.9309   \n",
       "\n",
       "      Diesel           Date  \n",
       "0     4.2301   2013 January  \n",
       "1     4.2972  2013 February  \n",
       "2     4.2769     2013 March  \n",
       "3     4.1582     2013 April  \n",
       "4     4.1535       2013 May  \n",
       "..       ...            ...  \n",
       "119  22.2562  2022 December  \n",
       "120  22.9381   2023 January  \n",
       "121   21.481  2023 February  \n",
       "122  21.2818     2023 March  \n",
       "123  21.1161     2023 April  \n",
       "\n",
       "[124 rows x 9 columns]"
      ]
     },
     "execution_count": 665,
     "metadata": {},
     "output_type": "execute_result"
    }
   ],
   "source": [
    "df['Date'] = df['C'].astype(str)+' ' +df['E']\n",
    "df"
   ]
  },
  {
   "cell_type": "code",
   "execution_count": 666,
   "id": "e0cb261b",
   "metadata": {},
   "outputs": [
    {
     "data": {
      "text/html": [
       "<div>\n",
       "<style scoped>\n",
       "    .dataframe tbody tr th:only-of-type {\n",
       "        vertical-align: middle;\n",
       "    }\n",
       "\n",
       "    .dataframe tbody tr th {\n",
       "        vertical-align: top;\n",
       "    }\n",
       "\n",
       "    .dataframe thead th {\n",
       "        text-align: right;\n",
       "    }\n",
       "</style>\n",
       "<table border=\"1\" class=\"dataframe\">\n",
       "  <thead>\n",
       "    <tr style=\"text-align: right;\">\n",
       "      <th></th>\n",
       "      <th>Date</th>\n",
       "      <th>Electricity_Fee</th>\n",
       "      <th>Natural_Gas_Fee</th>\n",
       "      <th>Petrol</th>\n",
       "      <th>LPG</th>\n",
       "      <th>Diesel</th>\n",
       "    </tr>\n",
       "  </thead>\n",
       "  <tbody>\n",
       "    <tr>\n",
       "      <th>0</th>\n",
       "      <td>2013 January</td>\n",
       "      <td>0.357</td>\n",
       "      <td>1.0574</td>\n",
       "      <td>4.6925</td>\n",
       "      <td>2.6255</td>\n",
       "      <td>4.2301</td>\n",
       "    </tr>\n",
       "    <tr>\n",
       "      <th>1</th>\n",
       "      <td>2013 February</td>\n",
       "      <td>0.357</td>\n",
       "      <td>1.0573</td>\n",
       "      <td>4.858</td>\n",
       "      <td>2.62</td>\n",
       "      <td>4.2972</td>\n",
       "    </tr>\n",
       "    <tr>\n",
       "      <th>2</th>\n",
       "      <td>2013 March</td>\n",
       "      <td>0.357</td>\n",
       "      <td>1.0578</td>\n",
       "      <td>4.771</td>\n",
       "      <td>2.617</td>\n",
       "      <td>4.2769</td>\n",
       "    </tr>\n",
       "    <tr>\n",
       "      <th>3</th>\n",
       "      <td>2013 April</td>\n",
       "      <td>0.3587</td>\n",
       "      <td>1.0585</td>\n",
       "      <td>4.6449</td>\n",
       "      <td>2.518</td>\n",
       "      <td>4.1582</td>\n",
       "    </tr>\n",
       "    <tr>\n",
       "      <th>4</th>\n",
       "      <td>2013 May</td>\n",
       "      <td>0.3588</td>\n",
       "      <td>1.0592</td>\n",
       "      <td>4.6416</td>\n",
       "      <td>2.4009</td>\n",
       "      <td>4.1535</td>\n",
       "    </tr>\n",
       "    <tr>\n",
       "      <th>...</th>\n",
       "      <td>...</td>\n",
       "      <td>...</td>\n",
       "      <td>...</td>\n",
       "      <td>...</td>\n",
       "      <td>...</td>\n",
       "      <td>...</td>\n",
       "    </tr>\n",
       "    <tr>\n",
       "      <th>119</th>\n",
       "      <td>2022 December</td>\n",
       "      <td>1.8455</td>\n",
       "      <td>6.0515</td>\n",
       "      <td>18.7984</td>\n",
       "      <td>10.2782</td>\n",
       "      <td>22.2562</td>\n",
       "    </tr>\n",
       "    <tr>\n",
       "      <th>120</th>\n",
       "      <td>2023 January</td>\n",
       "      <td>1.8459</td>\n",
       "      <td>5.6313</td>\n",
       "      <td>20.3082</td>\n",
       "      <td>10.332</td>\n",
       "      <td>22.9381</td>\n",
       "    </tr>\n",
       "    <tr>\n",
       "      <th>121</th>\n",
       "      <td>2023 February</td>\n",
       "      <td>1.8459</td>\n",
       "      <td>5.6406</td>\n",
       "      <td>20.9698</td>\n",
       "      <td>11.5277</td>\n",
       "      <td>21.481</td>\n",
       "    </tr>\n",
       "    <tr>\n",
       "      <th>122</th>\n",
       "      <td>2023 March</td>\n",
       "      <td>1.8459</td>\n",
       "      <td>5.7837</td>\n",
       "      <td>20.9145</td>\n",
       "      <td>11.5853</td>\n",
       "      <td>21.2818</td>\n",
       "    </tr>\n",
       "    <tr>\n",
       "      <th>123</th>\n",
       "      <td>2023 April</td>\n",
       "      <td>1.569</td>\n",
       "      <td>5.7201</td>\n",
       "      <td>22.4125</td>\n",
       "      <td>9.9309</td>\n",
       "      <td>21.1161</td>\n",
       "    </tr>\n",
       "  </tbody>\n",
       "</table>\n",
       "<p>124 rows × 6 columns</p>\n",
       "</div>"
      ],
      "text/plain": [
       "              Date Electricity_Fee Natural_Gas_Fee   Petrol      LPG   Diesel\n",
       "0     2013 January           0.357          1.0574   4.6925   2.6255   4.2301\n",
       "1    2013 February           0.357          1.0573    4.858     2.62   4.2972\n",
       "2       2013 March           0.357          1.0578    4.771    2.617   4.2769\n",
       "3       2013 April          0.3587          1.0585   4.6449    2.518   4.1582\n",
       "4         2013 May          0.3588          1.0592   4.6416   2.4009   4.1535\n",
       "..             ...             ...             ...      ...      ...      ...\n",
       "119  2022 December          1.8455          6.0515  18.7984  10.2782  22.2562\n",
       "120   2023 January          1.8459          5.6313  20.3082   10.332  22.9381\n",
       "121  2023 February          1.8459          5.6406  20.9698  11.5277   21.481\n",
       "122     2023 March          1.8459          5.7837  20.9145  11.5853  21.2818\n",
       "123     2023 April           1.569          5.7201  22.4125   9.9309  21.1161\n",
       "\n",
       "[124 rows x 6 columns]"
      ]
     },
     "execution_count": 666,
     "metadata": {},
     "output_type": "execute_result"
    }
   ],
   "source": [
    "df['C'] = df['Date']\n",
    "df = df.drop(columns = ['E'])\n",
    "df = df.drop(columns = ['D'])\n",
    "df = df.drop(columns = ['Date'])\n",
    "df = df.rename(columns={'C': 'Date'})\n",
    "df"
   ]
  },
  {
   "cell_type": "code",
   "execution_count": 667,
   "id": "b73168cb",
   "metadata": {},
   "outputs": [
    {
     "data": {
      "text/html": [
       "<div>\n",
       "<style scoped>\n",
       "    .dataframe tbody tr th:only-of-type {\n",
       "        vertical-align: middle;\n",
       "    }\n",
       "\n",
       "    .dataframe tbody tr th {\n",
       "        vertical-align: top;\n",
       "    }\n",
       "\n",
       "    .dataframe thead th {\n",
       "        text-align: right;\n",
       "    }\n",
       "</style>\n",
       "<table border=\"1\" class=\"dataframe\">\n",
       "  <thead>\n",
       "    <tr style=\"text-align: right;\">\n",
       "      <th></th>\n",
       "      <th>Date</th>\n",
       "      <th>Electricity_Fee</th>\n",
       "      <th>Natural_Gas_Fee</th>\n",
       "      <th>Petrol</th>\n",
       "      <th>LPG</th>\n",
       "      <th>Diesel</th>\n",
       "    </tr>\n",
       "  </thead>\n",
       "  <tbody>\n",
       "    <tr>\n",
       "      <th>0</th>\n",
       "      <td>2013-01-01</td>\n",
       "      <td>0.357</td>\n",
       "      <td>1.0574</td>\n",
       "      <td>4.6925</td>\n",
       "      <td>2.6255</td>\n",
       "      <td>4.2301</td>\n",
       "    </tr>\n",
       "    <tr>\n",
       "      <th>1</th>\n",
       "      <td>2013-02-01</td>\n",
       "      <td>0.357</td>\n",
       "      <td>1.0573</td>\n",
       "      <td>4.858</td>\n",
       "      <td>2.62</td>\n",
       "      <td>4.2972</td>\n",
       "    </tr>\n",
       "    <tr>\n",
       "      <th>2</th>\n",
       "      <td>2013-03-01</td>\n",
       "      <td>0.357</td>\n",
       "      <td>1.0578</td>\n",
       "      <td>4.771</td>\n",
       "      <td>2.617</td>\n",
       "      <td>4.2769</td>\n",
       "    </tr>\n",
       "    <tr>\n",
       "      <th>3</th>\n",
       "      <td>2013-04-01</td>\n",
       "      <td>0.3587</td>\n",
       "      <td>1.0585</td>\n",
       "      <td>4.6449</td>\n",
       "      <td>2.518</td>\n",
       "      <td>4.1582</td>\n",
       "    </tr>\n",
       "    <tr>\n",
       "      <th>4</th>\n",
       "      <td>2013-05-01</td>\n",
       "      <td>0.3588</td>\n",
       "      <td>1.0592</td>\n",
       "      <td>4.6416</td>\n",
       "      <td>2.4009</td>\n",
       "      <td>4.1535</td>\n",
       "    </tr>\n",
       "    <tr>\n",
       "      <th>...</th>\n",
       "      <td>...</td>\n",
       "      <td>...</td>\n",
       "      <td>...</td>\n",
       "      <td>...</td>\n",
       "      <td>...</td>\n",
       "      <td>...</td>\n",
       "    </tr>\n",
       "    <tr>\n",
       "      <th>119</th>\n",
       "      <td>2022-12-01</td>\n",
       "      <td>1.8455</td>\n",
       "      <td>6.0515</td>\n",
       "      <td>18.7984</td>\n",
       "      <td>10.2782</td>\n",
       "      <td>22.2562</td>\n",
       "    </tr>\n",
       "    <tr>\n",
       "      <th>120</th>\n",
       "      <td>2023-01-01</td>\n",
       "      <td>1.8459</td>\n",
       "      <td>5.6313</td>\n",
       "      <td>20.3082</td>\n",
       "      <td>10.332</td>\n",
       "      <td>22.9381</td>\n",
       "    </tr>\n",
       "    <tr>\n",
       "      <th>121</th>\n",
       "      <td>2023-02-01</td>\n",
       "      <td>1.8459</td>\n",
       "      <td>5.6406</td>\n",
       "      <td>20.9698</td>\n",
       "      <td>11.5277</td>\n",
       "      <td>21.481</td>\n",
       "    </tr>\n",
       "    <tr>\n",
       "      <th>122</th>\n",
       "      <td>2023-03-01</td>\n",
       "      <td>1.8459</td>\n",
       "      <td>5.7837</td>\n",
       "      <td>20.9145</td>\n",
       "      <td>11.5853</td>\n",
       "      <td>21.2818</td>\n",
       "    </tr>\n",
       "    <tr>\n",
       "      <th>123</th>\n",
       "      <td>2023-04-01</td>\n",
       "      <td>1.569</td>\n",
       "      <td>5.7201</td>\n",
       "      <td>22.4125</td>\n",
       "      <td>9.9309</td>\n",
       "      <td>21.1161</td>\n",
       "    </tr>\n",
       "  </tbody>\n",
       "</table>\n",
       "<p>124 rows × 6 columns</p>\n",
       "</div>"
      ],
      "text/plain": [
       "          Date Electricity_Fee Natural_Gas_Fee   Petrol      LPG   Diesel\n",
       "0   2013-01-01           0.357          1.0574   4.6925   2.6255   4.2301\n",
       "1   2013-02-01           0.357          1.0573    4.858     2.62   4.2972\n",
       "2   2013-03-01           0.357          1.0578    4.771    2.617   4.2769\n",
       "3   2013-04-01          0.3587          1.0585   4.6449    2.518   4.1582\n",
       "4   2013-05-01          0.3588          1.0592   4.6416   2.4009   4.1535\n",
       "..         ...             ...             ...      ...      ...      ...\n",
       "119 2022-12-01          1.8455          6.0515  18.7984  10.2782  22.2562\n",
       "120 2023-01-01          1.8459          5.6313  20.3082   10.332  22.9381\n",
       "121 2023-02-01          1.8459          5.6406  20.9698  11.5277   21.481\n",
       "122 2023-03-01          1.8459          5.7837  20.9145  11.5853  21.2818\n",
       "123 2023-04-01           1.569          5.7201  22.4125   9.9309  21.1161\n",
       "\n",
       "[124 rows x 6 columns]"
      ]
     },
     "execution_count": 667,
     "metadata": {},
     "output_type": "execute_result"
    }
   ],
   "source": [
    "df['Date'] = pd.to_datetime(df['Date'], format='%Y %B')\n",
    "df"
   ]
  },
  {
   "cell_type": "code",
   "execution_count": 668,
   "id": "7f1a3e8d",
   "metadata": {
    "scrolled": true
   },
   "outputs": [
    {
     "data": {
      "text/html": [
       "<div>\n",
       "<style scoped>\n",
       "    .dataframe tbody tr th:only-of-type {\n",
       "        vertical-align: middle;\n",
       "    }\n",
       "\n",
       "    .dataframe tbody tr th {\n",
       "        vertical-align: top;\n",
       "    }\n",
       "\n",
       "    .dataframe thead th {\n",
       "        text-align: right;\n",
       "    }\n",
       "</style>\n",
       "<table border=\"1\" class=\"dataframe\">\n",
       "  <thead>\n",
       "    <tr style=\"text-align: right;\">\n",
       "      <th></th>\n",
       "      <th>Date</th>\n",
       "      <th>Electricity_Fee</th>\n",
       "      <th>Natural_Gas_Fee</th>\n",
       "      <th>Petrol</th>\n",
       "      <th>LPG</th>\n",
       "      <th>Diesel</th>\n",
       "      <th>Dolar_TL</th>\n",
       "    </tr>\n",
       "  </thead>\n",
       "  <tbody>\n",
       "    <tr>\n",
       "      <th>0</th>\n",
       "      <td>2013-01-01</td>\n",
       "      <td>0.357</td>\n",
       "      <td>1.0574</td>\n",
       "      <td>4.6925</td>\n",
       "      <td>2.6255</td>\n",
       "      <td>4.2301</td>\n",
       "      <td>1,7589</td>\n",
       "    </tr>\n",
       "    <tr>\n",
       "      <th>1</th>\n",
       "      <td>2013-02-01</td>\n",
       "      <td>0.357</td>\n",
       "      <td>1.0573</td>\n",
       "      <td>4.858</td>\n",
       "      <td>2.62</td>\n",
       "      <td>4.2972</td>\n",
       "      <td>1,7985</td>\n",
       "    </tr>\n",
       "    <tr>\n",
       "      <th>2</th>\n",
       "      <td>2013-03-01</td>\n",
       "      <td>0.357</td>\n",
       "      <td>1.0578</td>\n",
       "      <td>4.771</td>\n",
       "      <td>2.617</td>\n",
       "      <td>4.2769</td>\n",
       "      <td>1,8090</td>\n",
       "    </tr>\n",
       "    <tr>\n",
       "      <th>3</th>\n",
       "      <td>2013-04-01</td>\n",
       "      <td>0.3587</td>\n",
       "      <td>1.0585</td>\n",
       "      <td>4.6449</td>\n",
       "      <td>2.518</td>\n",
       "      <td>4.1582</td>\n",
       "      <td>1,7930</td>\n",
       "    </tr>\n",
       "    <tr>\n",
       "      <th>4</th>\n",
       "      <td>2013-05-01</td>\n",
       "      <td>0.3588</td>\n",
       "      <td>1.0592</td>\n",
       "      <td>4.6416</td>\n",
       "      <td>2.4009</td>\n",
       "      <td>4.1535</td>\n",
       "      <td>1,8756</td>\n",
       "    </tr>\n",
       "    <tr>\n",
       "      <th>...</th>\n",
       "      <td>...</td>\n",
       "      <td>...</td>\n",
       "      <td>...</td>\n",
       "      <td>...</td>\n",
       "      <td>...</td>\n",
       "      <td>...</td>\n",
       "      <td>...</td>\n",
       "    </tr>\n",
       "    <tr>\n",
       "      <th>119</th>\n",
       "      <td>2022-12-01</td>\n",
       "      <td>1.8455</td>\n",
       "      <td>6.0515</td>\n",
       "      <td>18.7984</td>\n",
       "      <td>10.2782</td>\n",
       "      <td>22.2562</td>\n",
       "      <td>18,6905</td>\n",
       "    </tr>\n",
       "    <tr>\n",
       "      <th>120</th>\n",
       "      <td>2023-01-01</td>\n",
       "      <td>1.8459</td>\n",
       "      <td>5.6313</td>\n",
       "      <td>20.3082</td>\n",
       "      <td>10.332</td>\n",
       "      <td>22.9381</td>\n",
       "      <td>18,8115</td>\n",
       "    </tr>\n",
       "    <tr>\n",
       "      <th>121</th>\n",
       "      <td>2023-02-01</td>\n",
       "      <td>1.8459</td>\n",
       "      <td>5.6406</td>\n",
       "      <td>20.9698</td>\n",
       "      <td>11.5277</td>\n",
       "      <td>21.481</td>\n",
       "      <td>18,8875</td>\n",
       "    </tr>\n",
       "    <tr>\n",
       "      <th>122</th>\n",
       "      <td>2023-03-01</td>\n",
       "      <td>1.8459</td>\n",
       "      <td>5.7837</td>\n",
       "      <td>20.9145</td>\n",
       "      <td>11.5853</td>\n",
       "      <td>21.2818</td>\n",
       "      <td>19,1793</td>\n",
       "    </tr>\n",
       "    <tr>\n",
       "      <th>123</th>\n",
       "      <td>2023-04-01</td>\n",
       "      <td>1.569</td>\n",
       "      <td>5.7201</td>\n",
       "      <td>22.4125</td>\n",
       "      <td>9.9309</td>\n",
       "      <td>21.1161</td>\n",
       "      <td>19,4530</td>\n",
       "    </tr>\n",
       "  </tbody>\n",
       "</table>\n",
       "<p>124 rows × 7 columns</p>\n",
       "</div>"
      ],
      "text/plain": [
       "          Date Electricity_Fee Natural_Gas_Fee   Petrol      LPG   Diesel  \\\n",
       "0   2013-01-01           0.357          1.0574   4.6925   2.6255   4.2301   \n",
       "1   2013-02-01           0.357          1.0573    4.858     2.62   4.2972   \n",
       "2   2013-03-01           0.357          1.0578    4.771    2.617   4.2769   \n",
       "3   2013-04-01          0.3587          1.0585   4.6449    2.518   4.1582   \n",
       "4   2013-05-01          0.3588          1.0592   4.6416   2.4009   4.1535   \n",
       "..         ...             ...             ...      ...      ...      ...   \n",
       "119 2022-12-01          1.8455          6.0515  18.7984  10.2782  22.2562   \n",
       "120 2023-01-01          1.8459          5.6313  20.3082   10.332  22.9381   \n",
       "121 2023-02-01          1.8459          5.6406  20.9698  11.5277   21.481   \n",
       "122 2023-03-01          1.8459          5.7837  20.9145  11.5853  21.2818   \n",
       "123 2023-04-01           1.569          5.7201  22.4125   9.9309  21.1161   \n",
       "\n",
       "    Dolar_TL  \n",
       "0     1,7589  \n",
       "1     1,7985  \n",
       "2     1,8090  \n",
       "3     1,7930  \n",
       "4     1,8756  \n",
       "..       ...  \n",
       "119  18,6905  \n",
       "120  18,8115  \n",
       "121  18,8875  \n",
       "122  19,1793  \n",
       "123  19,4530  \n",
       "\n",
       "[124 rows x 7 columns]"
      ]
     },
     "execution_count": 668,
     "metadata": {},
     "output_type": "execute_result"
    }
   ],
   "source": [
    "df['Dolar_TL'] = dolar['Şimdi']\n",
    "df"
   ]
  },
  {
   "cell_type": "markdown",
   "id": "fcfe0d0b",
   "metadata": {},
   "source": [
    "### In datas, there are str or float data, so we change all of this to float for easy use"
   ]
  },
  {
   "cell_type": "code",
   "execution_count": 669,
   "id": "dace563c",
   "metadata": {},
   "outputs": [],
   "source": [
    "df['Electricity_Fee'] = df['Electricity_Fee'].astype(str).str.replace(',', '.').astype(float)\n",
    "df['Dolar_TL'] = df['Dolar_TL'].astype(str).str.replace(',', '.').astype(float)\n",
    "df['Natural_Gas_Fee'] = df['Natural_Gas_Fee'].astype(str).str.replace(',', '.').astype(float)\n",
    "df['Petrol'] = df['Petrol'].astype(str).str.replace(',', '.').astype(float)\n",
    "df['LPG'] = df['LPG'].astype(str).str.replace(',', '.').astype(float)\n",
    "df['Diesel'] = df['Diesel'].astype(str).str.replace(',', '.').astype(float)"
   ]
  },
  {
   "cell_type": "markdown",
   "id": "7544c5b5",
   "metadata": {},
   "source": [
    "# Linear Regression Analysis"
   ]
  },
  {
   "cell_type": "code",
   "execution_count": 670,
   "id": "ad5127ed",
   "metadata": {
    "scrolled": true
   },
   "outputs": [
    {
     "data": {
      "text/plain": [
       "Text(0, 0.5, 'Energy Types Prices')"
      ]
     },
     "execution_count": 670,
     "metadata": {},
     "output_type": "execute_result"
    },
    {
     "data": {
      "image/png": "[encoded data removed]",
      "text/plain": [
       "<Figure size 720x432 with 1 Axes>"
      ]
     },
     "metadata": {
      "needs_background": "light"
     },
     "output_type": "display_data"
    }
   ],
   "source": [
    "plt.scatter(x=df['Electricity_Fee'],y=df['Dolar_TL'],c='k',marker='*',label='Electricity')\n",
    "plt.scatter(x=df['Natural_Gas_Fee'],y=df['Dolar_TL'],c='b',marker='o',label='Natural Gas')\n",
    "plt.scatter(x=df['Petrol'],y=df['Dolar_TL'],c='r',marker='s',label='Petrol')\n",
    "plt.scatter(x=df['LPG'],y=df['Dolar_TL'],c='green',marker='<',label='LPG')\n",
    "plt.scatter(x=df['Diesel'],y=df['Dolar_TL'],c='yellow',marker='d',label='Diesel')\n",
    "\n",
    "plt.legend(loc=4)\n",
    "plt.xlabel('Dolar / TL')\n",
    "plt.ylabel('Energy Types Prices')"
   ]
  },
  {
   "cell_type": "code",
   "execution_count": 671,
   "id": "7e92e680",
   "metadata": {},
   "outputs": [
    {
     "data": {
      "text/plain": [
       "<seaborn.axisgrid.JointGrid at 0x220ad678f70>"
      ]
     },
     "execution_count": 671,
     "metadata": {},
     "output_type": "execute_result"
    },
    {
     "data": {
      "image/png": "[encoded data removed]",
      "text/plain": [
       "<Figure size 432x432 with 3 Axes>"
      ]
     },
     "metadata": {
      "needs_background": "light"
     },
     "output_type": "display_data"
    }
   ],
   "source": [
    "sns.jointplot(x='Dolar_TL',y='Date',data=df)"
   ]
  },
  {
   "cell_type": "code",
   "execution_count": 672,
   "id": "96f5aa49",
   "metadata": {},
   "outputs": [
    {
     "data": {
      "text/html": [
       "<div>\n",
       "<style scoped>\n",
       "    .dataframe tbody tr th:only-of-type {\n",
       "        vertical-align: middle;\n",
       "    }\n",
       "\n",
       "    .dataframe tbody tr th {\n",
       "        vertical-align: top;\n",
       "    }\n",
       "\n",
       "    .dataframe thead th {\n",
       "        text-align: right;\n",
       "    }\n",
       "</style>\n",
       "<table border=\"1\" class=\"dataframe\">\n",
       "  <thead>\n",
       "    <tr style=\"text-align: right;\">\n",
       "      <th></th>\n",
       "      <th>Electricity_Fee</th>\n",
       "      <th>Natural_Gas_Fee</th>\n",
       "      <th>Petrol</th>\n",
       "      <th>LPG</th>\n",
       "      <th>Diesel</th>\n",
       "      <th>Dolar_TL</th>\n",
       "    </tr>\n",
       "  </thead>\n",
       "  <tbody>\n",
       "    <tr>\n",
       "      <th>count</th>\n",
       "      <td>124.000000</td>\n",
       "      <td>124.000000</td>\n",
       "      <td>124.000000</td>\n",
       "      <td>124.000000</td>\n",
       "      <td>124.000000</td>\n",
       "      <td>124.000000</td>\n",
       "    </tr>\n",
       "    <tr>\n",
       "      <th>mean</th>\n",
       "      <td>0.658055</td>\n",
       "      <td>1.822540</td>\n",
       "      <td>7.620653</td>\n",
       "      <td>4.004302</td>\n",
       "      <td>7.421681</td>\n",
       "      <td>6.139290</td>\n",
       "    </tr>\n",
       "    <tr>\n",
       "      <th>std</th>\n",
       "      <td>0.416231</td>\n",
       "      <td>1.274767</td>\n",
       "      <td>5.186025</td>\n",
       "      <td>2.650831</td>\n",
       "      <td>6.029103</td>\n",
       "      <td>4.930414</td>\n",
       "    </tr>\n",
       "    <tr>\n",
       "      <th>min</th>\n",
       "      <td>0.357000</td>\n",
       "      <td>1.057300</td>\n",
       "      <td>4.128800</td>\n",
       "      <td>2.133000</td>\n",
       "      <td>3.433200</td>\n",
       "      <td>1.758900</td>\n",
       "    </tr>\n",
       "    <tr>\n",
       "      <th>25%</th>\n",
       "      <td>0.390700</td>\n",
       "      <td>1.128375</td>\n",
       "      <td>4.845800</td>\n",
       "      <td>2.558675</td>\n",
       "      <td>4.296800</td>\n",
       "      <td>2.789375</td>\n",
       "    </tr>\n",
       "    <tr>\n",
       "      <th>50%</th>\n",
       "      <td>0.448200</td>\n",
       "      <td>1.195550</td>\n",
       "      <td>5.678800</td>\n",
       "      <td>3.056350</td>\n",
       "      <td>5.201650</td>\n",
       "      <td>3.937100</td>\n",
       "    </tr>\n",
       "    <tr>\n",
       "      <th>75%</th>\n",
       "      <td>0.720425</td>\n",
       "      <td>1.871500</td>\n",
       "      <td>7.059250</td>\n",
       "      <td>3.610825</td>\n",
       "      <td>6.579850</td>\n",
       "      <td>7.369275</td>\n",
       "    </tr>\n",
       "    <tr>\n",
       "      <th>max</th>\n",
       "      <td>1.845900</td>\n",
       "      <td>6.051500</td>\n",
       "      <td>27.082100</td>\n",
       "      <td>11.587700</td>\n",
       "      <td>27.977200</td>\n",
       "      <td>19.453000</td>\n",
       "    </tr>\n",
       "  </tbody>\n",
       "</table>\n",
       "</div>"
      ],
      "text/plain": [
       "       Electricity_Fee  Natural_Gas_Fee      Petrol         LPG      Diesel  \\\n",
       "count       124.000000       124.000000  124.000000  124.000000  124.000000   \n",
       "mean          0.658055         1.822540    7.620653    4.004302    7.421681   \n",
       "std           0.416231         1.274767    5.186025    2.650831    6.029103   \n",
       "min           0.357000         1.057300    4.128800    2.133000    3.433200   \n",
       "25%           0.390700         1.128375    4.845800    2.558675    4.296800   \n",
       "50%           0.448200         1.195550    5.678800    3.056350    5.201650   \n",
       "75%           0.720425         1.871500    7.059250    3.610825    6.579850   \n",
       "max           1.845900         6.051500   27.082100   11.587700   27.977200   \n",
       "\n",
       "         Dolar_TL  \n",
       "count  124.000000  \n",
       "mean     6.139290  \n",
       "std      4.930414  \n",
       "min      1.758900  \n",
       "25%      2.789375  \n",
       "50%      3.937100  \n",
       "75%      7.369275  \n",
       "max     19.453000  "
      ]
     },
     "execution_count": 672,
     "metadata": {},
     "output_type": "execute_result"
    }
   ],
   "source": [
    "df.describe()"
   ]
  },
  {
   "cell_type": "markdown",
   "id": "40796f41",
   "metadata": {},
   "source": [
    "********\n",
    "df DataFrame's heatmap"
   ]
  },
  {
   "cell_type": "code",
   "execution_count": 673,
   "id": "eab2f615",
   "metadata": {},
   "outputs": [
    {
     "name": "stdout",
     "output_type": "stream",
     "text": [
      "                 Electricity_Fee  Natural_Gas_Fee    Petrol       LPG  \\\n",
      "Electricity_Fee         1.000000         0.969262  0.939603  0.952320   \n",
      "Natural_Gas_Fee         0.969262         1.000000  0.943602  0.928672   \n",
      "Petrol                  0.939603         0.943602  1.000000  0.977050   \n",
      "LPG                     0.952320         0.928672  0.977050  1.000000   \n",
      "Diesel                  0.945154         0.953948  0.992527  0.973723   \n",
      "Dolar_TL                0.979840         0.951727  0.943063  0.956976   \n",
      "\n",
      "                   Diesel  Dolar_TL  \n",
      "Electricity_Fee  0.945154  0.979840  \n",
      "Natural_Gas_Fee  0.953948  0.951727  \n",
      "Petrol           0.992527  0.943063  \n",
      "LPG              0.973723  0.956976  \n",
      "Diesel           1.000000  0.940519  \n",
      "Dolar_TL         0.940519  1.000000  \n"
     ]
    },
    {
     "data": {
      "text/plain": [
       "<AxesSubplot:>"
      ]
     },
     "execution_count": 673,
     "metadata": {},
     "output_type": "execute_result"
    },
    {
     "data": {
      "image/png": "[encoded data removed]",
      "text/plain": [
       "<Figure size 720x432 with 2 Axes>"
      ]
     },
     "metadata": {
      "needs_background": "light"
     },
     "output_type": "display_data"
    }
   ],
   "source": [
    "print(df.corr())\n",
    "sns.heatmap(df.corr(), annot=True)"
   ]
  },
  {
   "cell_type": "code",
   "execution_count": 674,
   "id": "b3a856f8",
   "metadata": {},
   "outputs": [
    {
     "data": {
      "text/plain": [
       "<seaborn.axisgrid.PairGrid at 0x220ad7f9af0>"
      ]
     },
     "execution_count": 674,
     "metadata": {},
     "output_type": "execute_result"
    },
    {
     "data": {
      "image/png": "[encoded data removed]",
      "text/plain": [
       "<Figure size 1080x1080 with 42 Axes>"
      ]
     },
     "metadata": {
      "needs_background": "light"
     },
     "output_type": "display_data"
    }
   ],
   "source": [
    "ir = sns.PairGrid(df)   \n",
    "ir.map(plt.scatter)\n",
    "ir.map_diag(sns.histplot)\n",
    "ir.map_upper(plt.scatter)\n",
    "ir.map_lower(sns.kdeplot)"
   ]
  },
  {
   "cell_type": "code",
   "execution_count": 675,
   "id": "d0f9d379",
   "metadata": {},
   "outputs": [
    {
     "data": {
      "text/html": [
       "<table class=\"simpletable\">\n",
       "<caption>OLS Regression Results</caption>\n",
       "<tr>\n",
       "  <th>Dep. Variable:</th>        <td>Dolar_TL</td>     <th>  R-squared:         </th> <td>   0.960</td>\n",
       "</tr>\n",
       "<tr>\n",
       "  <th>Model:</th>                   <td>OLS</td>       <th>  Adj. R-squared:    </th> <td>   0.960</td>\n",
       "</tr>\n",
       "<tr>\n",
       "  <th>Method:</th>             <td>Least Squares</td>  <th>  F-statistic:       </th> <td>   2935.</td>\n",
       "</tr>\n",
       "<tr>\n",
       "  <th>Date:</th>             <td>Wed, 10 May 2023</td> <th>  Prob (F-statistic):</th> <td>3.43e-87</td>\n",
       "</tr>\n",
       "<tr>\n",
       "  <th>Time:</th>                 <td>16:18:49</td>     <th>  Log-Likelihood:    </th> <td> -173.57</td>\n",
       "</tr>\n",
       "<tr>\n",
       "  <th>No. Observations:</th>      <td>   124</td>      <th>  AIC:               </th> <td>   351.1</td>\n",
       "</tr>\n",
       "<tr>\n",
       "  <th>Df Residuals:</th>          <td>   122</td>      <th>  BIC:               </th> <td>   356.8</td>\n",
       "</tr>\n",
       "<tr>\n",
       "  <th>Df Model:</th>              <td>     1</td>      <th>                     </th>     <td> </td>   \n",
       "</tr>\n",
       "<tr>\n",
       "  <th>Covariance Type:</th>      <td>nonrobust</td>    <th>                     </th>     <td> </td>   \n",
       "</tr>\n",
       "</table>\n",
       "<table class=\"simpletable\">\n",
       "<tr>\n",
       "         <td></td>            <th>coef</th>     <th>std err</th>      <th>t</th>      <th>P>|t|</th>  <th>[0.025</th>    <th>0.975]</th>  \n",
       "</tr>\n",
       "<tr>\n",
       "  <th>Intercept</th>       <td>   -1.4985</td> <td>    0.167</td> <td>   -8.993</td> <td> 0.000</td> <td>   -1.828</td> <td>   -1.169</td>\n",
       "</tr>\n",
       "<tr>\n",
       "  <th>Electricity_Fee</th> <td>   11.6066</td> <td>    0.214</td> <td>   54.172</td> <td> 0.000</td> <td>   11.182</td> <td>   12.031</td>\n",
       "</tr>\n",
       "</table>\n",
       "<table class=\"simpletable\">\n",
       "<tr>\n",
       "  <th>Omnibus:</th>       <td>48.631</td> <th>  Durbin-Watson:     </th> <td>   1.032</td>\n",
       "</tr>\n",
       "<tr>\n",
       "  <th>Prob(Omnibus):</th> <td> 0.000</td> <th>  Jarque-Bera (JB):  </th> <td> 179.878</td>\n",
       "</tr>\n",
       "<tr>\n",
       "  <th>Skew:</th>          <td> 1.353</td> <th>  Prob(JB):          </th> <td>8.71e-40</td>\n",
       "</tr>\n",
       "<tr>\n",
       "  <th>Kurtosis:</th>      <td> 8.243</td> <th>  Cond. No.          </th> <td>    3.59</td>\n",
       "</tr>\n",
       "</table><br/><br/>Notes:<br/>[1] Standard Errors assume that the covariance matrix of the errors is correctly specified."
      ],
      "text/plain": [
       "<class 'statsmodels.iolib.summary.Summary'>\n",
       "\"\"\"\n",
       "                            OLS Regression Results                            \n",
       "==============================================================================\n",
       "Dep. Variable:               Dolar_TL   R-squared:                       0.960\n",
       "Model:                            OLS   Adj. R-squared:                  0.960\n",
       "Method:                 Least Squares   F-statistic:                     2935.\n",
       "Date:                Wed, 10 May 2023   Prob (F-statistic):           3.43e-87\n",
       "Time:                        16:18:49   Log-Likelihood:                -173.57\n",
       "No. Observations:                 124   AIC:                             351.1\n",
       "Df Residuals:                     122   BIC:                             356.8\n",
       "Df Model:                           1                                         \n",
       "Covariance Type:            nonrobust                                         \n",
       "===================================================================================\n",
       "                      coef    std err          t      P>|t|      [0.025      0.975]\n",
       "-----------------------------------------------------------------------------------\n",
       "Intercept          -1.4985      0.167     -8.993      0.000      -1.828      -1.169\n",
       "Electricity_Fee    11.6066      0.214     54.172      0.000      11.182      12.031\n",
       "==============================================================================\n",
       "Omnibus:                       48.631   Durbin-Watson:                   1.032\n",
       "Prob(Omnibus):                  0.000   Jarque-Bera (JB):              179.878\n",
       "Skew:                           1.353   Prob(JB):                     8.71e-40\n",
       "Kurtosis:                       8.243   Cond. No.                         3.59\n",
       "==============================================================================\n",
       "\n",
       "Notes:\n",
       "[1] Standard Errors assume that the covariance matrix of the errors is correctly specified.\n",
       "\"\"\""
      ]
     },
     "execution_count": 675,
     "metadata": {},
     "output_type": "execute_result"
    }
   ],
   "source": [
    "dolar = sm.ols(formula=\"Dolar_TL ~ Electricity_Fee\", data=df).fit()\n",
    "dolar.summary()"
   ]
  },
  {
   "cell_type": "code",
   "execution_count": 676,
   "id": "cb4c129a",
   "metadata": {
    "scrolled": true
   },
   "outputs": [
    {
     "data": {
      "text/plain": [
       "Text(0.5, 1.0, 'Dolar ~ Electricity Fee')"
      ]
     },
     "execution_count": 676,
     "metadata": {},
     "output_type": "execute_result"
    },
    {
     "data": {
      "image/png": "[encoded data removed]",
      "text/plain": [
       "<Figure size 720x432 with 1 Axes>"
      ]
     },
     "metadata": {
      "needs_background": "light"
     },
     "output_type": "display_data"
    }
   ],
   "source": [
    "plt.scatter(x=df['Electricity_Fee'],y=df['Dolar_TL'],c='black',marker='x',label='TV')\n",
    "plt.plot(df['Electricity_Fee'],dolar.predict(),color='b',linewidth=3)\n",
    "\n",
    "plt.legend(loc=2)\n",
    "plt.xlabel('Electricity Fee')\n",
    "plt.ylabel('Dolar/TL')\n",
    "plt.title('Dolar ~ Electricity Fee')"
   ]
  },
  {
   "cell_type": "markdown",
   "id": "3c9d3f02",
   "metadata": {},
   "source": [
    "#### Dolar ~ Electricity Fee's R-squared is more than 0.96 and p-value (0) its seems like okey."
   ]
  },
  {
   "cell_type": "markdown",
   "id": "75583308",
   "metadata": {},
   "source": [
    "****************"
   ]
  },
  {
   "cell_type": "code",
   "execution_count": 677,
   "id": "43d7233a",
   "metadata": {},
   "outputs": [
    {
     "data": {
      "text/html": [
       "<table class=\"simpletable\">\n",
       "<caption>OLS Regression Results</caption>\n",
       "<tr>\n",
       "  <th>Dep. Variable:</th>        <td>Dolar_TL</td>     <th>  R-squared:         </th> <td>   0.906</td>\n",
       "</tr>\n",
       "<tr>\n",
       "  <th>Model:</th>                   <td>OLS</td>       <th>  Adj. R-squared:    </th> <td>   0.905</td>\n",
       "</tr>\n",
       "<tr>\n",
       "  <th>Method:</th>             <td>Least Squares</td>  <th>  F-statistic:       </th> <td>   1173.</td>\n",
       "</tr>\n",
       "<tr>\n",
       "  <th>Date:</th>             <td>Wed, 10 May 2023</td> <th>  Prob (F-statistic):</th> <td>2.00e-64</td>\n",
       "</tr>\n",
       "<tr>\n",
       "  <th>Time:</th>                 <td>16:18:49</td>     <th>  Log-Likelihood:    </th> <td> -226.82</td>\n",
       "</tr>\n",
       "<tr>\n",
       "  <th>No. Observations:</th>      <td>   124</td>      <th>  AIC:               </th> <td>   457.6</td>\n",
       "</tr>\n",
       "<tr>\n",
       "  <th>Df Residuals:</th>          <td>   122</td>      <th>  BIC:               </th> <td>   463.3</td>\n",
       "</tr>\n",
       "<tr>\n",
       "  <th>Df Model:</th>              <td>     1</td>      <th>                     </th>     <td> </td>   \n",
       "</tr>\n",
       "<tr>\n",
       "  <th>Covariance Type:</th>      <td>nonrobust</td>    <th>                     </th>     <td> </td>   \n",
       "</tr>\n",
       "</table>\n",
       "<table class=\"simpletable\">\n",
       "<tr>\n",
       "         <td></td>            <th>coef</th>     <th>std err</th>      <th>t</th>      <th>P>|t|</th>  <th>[0.025</th>    <th>0.975]</th>  \n",
       "</tr>\n",
       "<tr>\n",
       "  <th>Intercept</th>       <td>   -0.5695</td> <td>    0.239</td> <td>   -2.385</td> <td> 0.019</td> <td>   -1.042</td> <td>   -0.097</td>\n",
       "</tr>\n",
       "<tr>\n",
       "  <th>Natural_Gas_Fee</th> <td>    3.6810</td> <td>    0.107</td> <td>   34.248</td> <td> 0.000</td> <td>    3.468</td> <td>    3.894</td>\n",
       "</tr>\n",
       "</table>\n",
       "<table class=\"simpletable\">\n",
       "<tr>\n",
       "  <th>Omnibus:</th>       <td>33.555</td> <th>  Durbin-Watson:     </th> <td>   0.229</td>\n",
       "</tr>\n",
       "<tr>\n",
       "  <th>Prob(Omnibus):</th> <td> 0.000</td> <th>  Jarque-Bera (JB):  </th> <td>  59.629</td>\n",
       "</tr>\n",
       "<tr>\n",
       "  <th>Skew:</th>          <td> 1.209</td> <th>  Prob(JB):          </th> <td>1.13e-13</td>\n",
       "</tr>\n",
       "<tr>\n",
       "  <th>Kurtosis:</th>      <td> 5.387</td> <th>  Cond. No.          </th> <td>    4.45</td>\n",
       "</tr>\n",
       "</table><br/><br/>Notes:<br/>[1] Standard Errors assume that the covariance matrix of the errors is correctly specified."
      ],
      "text/plain": [
       "<class 'statsmodels.iolib.summary.Summary'>\n",
       "\"\"\"\n",
       "                            OLS Regression Results                            \n",
       "==============================================================================\n",
       "Dep. Variable:               Dolar_TL   R-squared:                       0.906\n",
       "Model:                            OLS   Adj. R-squared:                  0.905\n",
       "Method:                 Least Squares   F-statistic:                     1173.\n",
       "Date:                Wed, 10 May 2023   Prob (F-statistic):           2.00e-64\n",
       "Time:                        16:18:49   Log-Likelihood:                -226.82\n",
       "No. Observations:                 124   AIC:                             457.6\n",
       "Df Residuals:                     122   BIC:                             463.3\n",
       "Df Model:                           1                                         \n",
       "Covariance Type:            nonrobust                                         \n",
       "===================================================================================\n",
       "                      coef    std err          t      P>|t|      [0.025      0.975]\n",
       "-----------------------------------------------------------------------------------\n",
       "Intercept          -0.5695      0.239     -2.385      0.019      -1.042      -0.097\n",
       "Natural_Gas_Fee     3.6810      0.107     34.248      0.000       3.468       3.894\n",
       "==============================================================================\n",
       "Omnibus:                       33.555   Durbin-Watson:                   0.229\n",
       "Prob(Omnibus):                  0.000   Jarque-Bera (JB):               59.629\n",
       "Skew:                           1.209   Prob(JB):                     1.13e-13\n",
       "Kurtosis:                       5.387   Cond. No.                         4.45\n",
       "==============================================================================\n",
       "\n",
       "Notes:\n",
       "[1] Standard Errors assume that the covariance matrix of the errors is correctly specified.\n",
       "\"\"\""
      ]
     },
     "execution_count": 677,
     "metadata": {},
     "output_type": "execute_result"
    }
   ],
   "source": [
    "Gas = sm.ols(formula=\"Dolar_TL ~ Natural_Gas_Fee\", data=df).fit()\n",
    "Gas.summary()"
   ]
  },
  {
   "cell_type": "code",
   "execution_count": 678,
   "id": "dfd5f2be",
   "metadata": {
    "scrolled": true
   },
   "outputs": [
    {
     "data": {
      "text/plain": [
       "Text(0.5, 1.0, 'Dolar ~ Natural Gas Fee')"
      ]
     },
     "execution_count": 678,
     "metadata": {},
     "output_type": "execute_result"
    },
    {
     "data": {
      "image/png": "[encoded data removed]",
      "text/plain": [
       "<Figure size 720x432 with 1 Axes>"
      ]
     },
     "metadata": {
      "needs_background": "light"
     },
     "output_type": "display_data"
    }
   ],
   "source": [
    "plt.scatter(x=df['Natural_Gas_Fee'],y=df['Dolar_TL'],c='black',marker='x',label='TV')\n",
    "plt.plot(df['Natural_Gas_Fee'],Gas.predict(),color='b',linewidth=3,)\n",
    "\n",
    "plt.legend(loc=2)\n",
    "plt.xlabel('Natural Gas Fee')\n",
    "plt.ylabel('Dolar/TL')\n",
    "plt.title('Dolar ~ Natural Gas Fee')"
   ]
  },
  {
   "cell_type": "markdown",
   "id": "2ef6eaa6",
   "metadata": {},
   "source": [
    "#### Dolar ~ Natural Gas Fee's R-squared is more than 0.9 and p-value (0) its seems like okey."
   ]
  },
  {
   "cell_type": "markdown",
   "id": "4208396a",
   "metadata": {},
   "source": [
    "****************"
   ]
  },
  {
   "cell_type": "code",
   "execution_count": 679,
   "id": "9b7833b9",
   "metadata": {
    "scrolled": true
   },
   "outputs": [
    {
     "data": {
      "text/html": [
       "<table class=\"simpletable\">\n",
       "<caption>OLS Regression Results</caption>\n",
       "<tr>\n",
       "  <th>Dep. Variable:</th>        <td>Dolar_TL</td>     <th>  R-squared:         </th> <td>   0.889</td>\n",
       "</tr>\n",
       "<tr>\n",
       "  <th>Model:</th>                   <td>OLS</td>       <th>  Adj. R-squared:    </th> <td>   0.888</td>\n",
       "</tr>\n",
       "<tr>\n",
       "  <th>Method:</th>             <td>Least Squares</td>  <th>  F-statistic:       </th> <td>   980.8</td>\n",
       "</tr>\n",
       "<tr>\n",
       "  <th>Date:</th>             <td>Wed, 10 May 2023</td> <th>  Prob (F-statistic):</th> <td>3.63e-60</td>\n",
       "</tr>\n",
       "<tr>\n",
       "  <th>Time:</th>                 <td>16:18:50</td>     <th>  Log-Likelihood:    </th> <td> -236.78</td>\n",
       "</tr>\n",
       "<tr>\n",
       "  <th>No. Observations:</th>      <td>   124</td>      <th>  AIC:               </th> <td>   477.6</td>\n",
       "</tr>\n",
       "<tr>\n",
       "  <th>Df Residuals:</th>          <td>   122</td>      <th>  BIC:               </th> <td>   483.2</td>\n",
       "</tr>\n",
       "<tr>\n",
       "  <th>Df Model:</th>              <td>     1</td>      <th>                     </th>     <td> </td>   \n",
       "</tr>\n",
       "<tr>\n",
       "  <th>Covariance Type:</th>      <td>nonrobust</td>    <th>                     </th>     <td> </td>   \n",
       "</tr>\n",
       "</table>\n",
       "<table class=\"simpletable\">\n",
       "<tr>\n",
       "      <td></td>         <th>coef</th>     <th>std err</th>      <th>t</th>      <th>P>|t|</th>  <th>[0.025</th>    <th>0.975]</th>  \n",
       "</tr>\n",
       "<tr>\n",
       "  <th>Intercept</th> <td>   -0.6932</td> <td>    0.264</td> <td>   -2.630</td> <td> 0.010</td> <td>   -1.215</td> <td>   -0.171</td>\n",
       "</tr>\n",
       "<tr>\n",
       "  <th>Petrol</th>    <td>    0.8966</td> <td>    0.029</td> <td>   31.317</td> <td> 0.000</td> <td>    0.840</td> <td>    0.953</td>\n",
       "</tr>\n",
       "</table>\n",
       "<table class=\"simpletable\">\n",
       "<tr>\n",
       "  <th>Omnibus:</th>       <td>15.459</td> <th>  Durbin-Watson:     </th> <td>   0.309</td>\n",
       "</tr>\n",
       "<tr>\n",
       "  <th>Prob(Omnibus):</th> <td> 0.000</td> <th>  Jarque-Bera (JB):  </th> <td>  49.075</td>\n",
       "</tr>\n",
       "<tr>\n",
       "  <th>Skew:</th>          <td> 0.257</td> <th>  Prob(JB):          </th> <td>2.21e-11</td>\n",
       "</tr>\n",
       "<tr>\n",
       "  <th>Kurtosis:</th>      <td> 6.039</td> <th>  Cond. No.          </th> <td>    16.5</td>\n",
       "</tr>\n",
       "</table><br/><br/>Notes:<br/>[1] Standard Errors assume that the covariance matrix of the errors is correctly specified."
      ],
      "text/plain": [
       "<class 'statsmodels.iolib.summary.Summary'>\n",
       "\"\"\"\n",
       "                            OLS Regression Results                            \n",
       "==============================================================================\n",
       "Dep. Variable:               Dolar_TL   R-squared:                       0.889\n",
       "Model:                            OLS   Adj. R-squared:                  0.888\n",
       "Method:                 Least Squares   F-statistic:                     980.8\n",
       "Date:                Wed, 10 May 2023   Prob (F-statistic):           3.63e-60\n",
       "Time:                        16:18:50   Log-Likelihood:                -236.78\n",
       "No. Observations:                 124   AIC:                             477.6\n",
       "Df Residuals:                     122   BIC:                             483.2\n",
       "Df Model:                           1                                         \n",
       "Covariance Type:            nonrobust                                         \n",
       "==============================================================================\n",
       "                 coef    std err          t      P>|t|      [0.025      0.975]\n",
       "------------------------------------------------------------------------------\n",
       "Intercept     -0.6932      0.264     -2.630      0.010      -1.215      -0.171\n",
       "Petrol         0.8966      0.029     31.317      0.000       0.840       0.953\n",
       "==============================================================================\n",
       "Omnibus:                       15.459   Durbin-Watson:                   0.309\n",
       "Prob(Omnibus):                  0.000   Jarque-Bera (JB):               49.075\n",
       "Skew:                           0.257   Prob(JB):                     2.21e-11\n",
       "Kurtosis:                       6.039   Cond. No.                         16.5\n",
       "==============================================================================\n",
       "\n",
       "Notes:\n",
       "[1] Standard Errors assume that the covariance matrix of the errors is correctly specified.\n",
       "\"\"\""
      ]
     },
     "execution_count": 679,
     "metadata": {},
     "output_type": "execute_result"
    }
   ],
   "source": [
    "petrol = sm.ols(formula=\"Dolar_TL ~ Petrol\", data=df).fit()\n",
    "petrol.summary()"
   ]
  },
  {
   "cell_type": "code",
   "execution_count": 680,
   "id": "73fdcafc",
   "metadata": {
    "scrolled": false
   },
   "outputs": [
    {
     "data": {
      "text/plain": [
       "Text(0.5, 1.0, 'Dolar ~ Petrol Fee')"
      ]
     },
     "execution_count": 680,
     "metadata": {},
     "output_type": "execute_result"
    },
    {
     "data": {
      "image/png": "[encoded data removed]",
      "text/plain": [
       "<Figure size 720x432 with 1 Axes>"
      ]
     },
     "metadata": {
      "needs_background": "light"
     },
     "output_type": "display_data"
    }
   ],
   "source": [
    "plt.scatter(x=df['Petrol'],y=df['Dolar_TL'],c='black',marker='x',label='TV')\n",
    "plt.plot(df['Petrol'],petrol.predict(),color='b',linewidth=3)\n",
    "\n",
    "plt.legend(loc=2)\n",
    "plt.xlabel('Petrol Fee')\n",
    "plt.ylabel('Dolar/TL')\n",
    "plt.title('Dolar ~ Petrol Fee')"
   ]
  },
  {
   "cell_type": "markdown",
   "id": "75eac41a",
   "metadata": {},
   "source": [
    "#### When we look the graph there are some outline. So we can use polynomial regression and graph."
   ]
  },
  {
   "cell_type": "markdown",
   "id": "0c5db1c9",
   "metadata": {},
   "source": [
    "*****************"
   ]
  },
  {
   "cell_type": "code",
   "execution_count": 681,
   "id": "a0685285",
   "metadata": {
    "scrolled": true
   },
   "outputs": [
    {
     "data": {
      "text/html": [
       "<table class=\"simpletable\">\n",
       "<caption>OLS Regression Results</caption>\n",
       "<tr>\n",
       "  <th>Dep. Variable:</th>        <td>Dolar_TL</td>     <th>  R-squared:         </th> <td>   0.951</td>\n",
       "</tr>\n",
       "<tr>\n",
       "  <th>Model:</th>                   <td>OLS</td>       <th>  Adj. R-squared:    </th> <td>   0.951</td>\n",
       "</tr>\n",
       "<tr>\n",
       "  <th>Method:</th>             <td>Least Squares</td>  <th>  F-statistic:       </th> <td>   1187.</td>\n",
       "</tr>\n",
       "<tr>\n",
       "  <th>Date:</th>             <td>Wed, 10 May 2023</td> <th>  Prob (F-statistic):</th> <td>3.09e-80</td>\n",
       "</tr>\n",
       "<tr>\n",
       "  <th>Time:</th>                 <td>16:18:50</td>     <th>  Log-Likelihood:    </th> <td> -185.66</td>\n",
       "</tr>\n",
       "<tr>\n",
       "  <th>No. Observations:</th>      <td>   124</td>      <th>  AIC:               </th> <td>   377.3</td>\n",
       "</tr>\n",
       "<tr>\n",
       "  <th>Df Residuals:</th>          <td>   121</td>      <th>  BIC:               </th> <td>   385.8</td>\n",
       "</tr>\n",
       "<tr>\n",
       "  <th>Df Model:</th>              <td>     2</td>      <th>                     </th>     <td> </td>   \n",
       "</tr>\n",
       "<tr>\n",
       "  <th>Covariance Type:</th>      <td>nonrobust</td>    <th>                     </th>     <td> </td>   \n",
       "</tr>\n",
       "</table>\n",
       "<table class=\"simpletable\">\n",
       "<tr>\n",
       "          <td></td>            <th>coef</th>     <th>std err</th>      <th>t</th>      <th>P>|t|</th>  <th>[0.025</th>    <th>0.975]</th>  \n",
       "</tr>\n",
       "<tr>\n",
       "  <th>Intercept</th>        <td>   -7.0815</td> <td>    0.542</td> <td>  -13.060</td> <td> 0.000</td> <td>   -8.155</td> <td>   -6.008</td>\n",
       "</tr>\n",
       "<tr>\n",
       "  <th>Petrol</th>           <td>    2.3369</td> <td>    0.117</td> <td>   19.931</td> <td> 0.000</td> <td>    2.105</td> <td>    2.569</td>\n",
       "</tr>\n",
       "<tr>\n",
       "  <th>I(Petrol ** 2.0)</th> <td>   -0.0541</td> <td>    0.004</td> <td>  -12.449</td> <td> 0.000</td> <td>   -0.063</td> <td>   -0.046</td>\n",
       "</tr>\n",
       "</table>\n",
       "<table class=\"simpletable\">\n",
       "<tr>\n",
       "  <th>Omnibus:</th>       <td>13.480</td> <th>  Durbin-Watson:     </th> <td>   0.363</td>\n",
       "</tr>\n",
       "<tr>\n",
       "  <th>Prob(Omnibus):</th> <td> 0.001</td> <th>  Jarque-Bera (JB):  </th> <td>  22.534</td>\n",
       "</tr>\n",
       "<tr>\n",
       "  <th>Skew:</th>          <td> 0.493</td> <th>  Prob(JB):          </th> <td>1.28e-05</td>\n",
       "</tr>\n",
       "<tr>\n",
       "  <th>Kurtosis:</th>      <td> 4.841</td> <th>  Cond. No.          </th> <td>    920.</td>\n",
       "</tr>\n",
       "</table><br/><br/>Notes:<br/>[1] Standard Errors assume that the covariance matrix of the errors is correctly specified."
      ],
      "text/plain": [
       "<class 'statsmodels.iolib.summary.Summary'>\n",
       "\"\"\"\n",
       "                            OLS Regression Results                            \n",
       "==============================================================================\n",
       "Dep. Variable:               Dolar_TL   R-squared:                       0.951\n",
       "Model:                            OLS   Adj. R-squared:                  0.951\n",
       "Method:                 Least Squares   F-statistic:                     1187.\n",
       "Date:                Wed, 10 May 2023   Prob (F-statistic):           3.09e-80\n",
       "Time:                        16:18:50   Log-Likelihood:                -185.66\n",
       "No. Observations:                 124   AIC:                             377.3\n",
       "Df Residuals:                     121   BIC:                             385.8\n",
       "Df Model:                           2                                         \n",
       "Covariance Type:            nonrobust                                         \n",
       "====================================================================================\n",
       "                       coef    std err          t      P>|t|      [0.025      0.975]\n",
       "------------------------------------------------------------------------------------\n",
       "Intercept           -7.0815      0.542    -13.060      0.000      -8.155      -6.008\n",
       "Petrol               2.3369      0.117     19.931      0.000       2.105       2.569\n",
       "I(Petrol ** 2.0)    -0.0541      0.004    -12.449      0.000      -0.063      -0.046\n",
       "==============================================================================\n",
       "Omnibus:                       13.480   Durbin-Watson:                   0.363\n",
       "Prob(Omnibus):                  0.001   Jarque-Bera (JB):               22.534\n",
       "Skew:                           0.493   Prob(JB):                     1.28e-05\n",
       "Kurtosis:                       4.841   Cond. No.                         920.\n",
       "==============================================================================\n",
       "\n",
       "Notes:\n",
       "[1] Standard Errors assume that the covariance matrix of the errors is correctly specified.\n",
       "\"\"\""
      ]
     },
     "execution_count": 681,
     "metadata": {},
     "output_type": "execute_result"
    }
   ],
   "source": [
    "Petrol2 = sm.ols(formula=\"Dolar_TL ~ Petrol + I(Petrol ** 2.0)\", data=df).fit()\n",
    "par3 = dict(Petrol2.params)\n",
    "x1 = np.linspace(0,30,30)\n",
    "y3 = par3[\"Intercept\"] + par3['Petrol']*x1 + par3['I(Petrol ** 2.0)']*x1**2\n",
    "Petrol2.summary()"
   ]
  },
  {
   "cell_type": "code",
   "execution_count": 682,
   "id": "f2c34abe",
   "metadata": {},
   "outputs": [
    {
     "data": {
      "text/plain": [
       "[<matplotlib.lines.Line2D at 0x220b3c9c880>]"
      ]
     },
     "execution_count": 682,
     "metadata": {},
     "output_type": "execute_result"
    },
    {
     "data": {
      "image/png": "[encoded data removed]",
      "text/plain": [
       "<Figure size 720x432 with 1 Axes>"
      ]
     },
     "metadata": {
      "needs_background": "light"
     },
     "output_type": "display_data"
    }
   ],
   "source": [
    "plt.scatter(df['Petrol'],df['Dolar_TL'],color='b',label=\"data\",marker='<')\n",
    "plt.plot(x1,y3,label=\"degree 3\",linewidth=2)"
   ]
  },
  {
   "cell_type": "markdown",
   "id": "70a3993d",
   "metadata": {},
   "source": [
    "#### When we use second polynom, graph and R-squared more suitable."
   ]
  },
  {
   "cell_type": "markdown",
   "id": "94f9f08b",
   "metadata": {},
   "source": [
    "**************"
   ]
  },
  {
   "cell_type": "code",
   "execution_count": 683,
   "id": "2ce16297",
   "metadata": {
    "scrolled": false
   },
   "outputs": [
    {
     "data": {
      "text/html": [
       "<table class=\"simpletable\">\n",
       "<caption>OLS Regression Results</caption>\n",
       "<tr>\n",
       "  <th>Dep. Variable:</th>        <td>Dolar_TL</td>     <th>  R-squared:         </th> <td>   0.916</td>\n",
       "</tr>\n",
       "<tr>\n",
       "  <th>Model:</th>                   <td>OLS</td>       <th>  Adj. R-squared:    </th> <td>   0.915</td>\n",
       "</tr>\n",
       "<tr>\n",
       "  <th>Method:</th>             <td>Least Squares</td>  <th>  F-statistic:       </th> <td>   1327.</td>\n",
       "</tr>\n",
       "<tr>\n",
       "  <th>Date:</th>             <td>Wed, 10 May 2023</td> <th>  Prob (F-statistic):</th> <td>2.09e-67</td>\n",
       "</tr>\n",
       "<tr>\n",
       "  <th>Time:</th>                 <td>16:18:50</td>     <th>  Log-Likelihood:    </th> <td> -219.85</td>\n",
       "</tr>\n",
       "<tr>\n",
       "  <th>No. Observations:</th>      <td>   124</td>      <th>  AIC:               </th> <td>   443.7</td>\n",
       "</tr>\n",
       "<tr>\n",
       "  <th>Df Residuals:</th>          <td>   122</td>      <th>  BIC:               </th> <td>   449.3</td>\n",
       "</tr>\n",
       "<tr>\n",
       "  <th>Df Model:</th>              <td>     1</td>      <th>                     </th>     <td> </td>   \n",
       "</tr>\n",
       "<tr>\n",
       "  <th>Covariance Type:</th>      <td>nonrobust</td>    <th>                     </th>     <td> </td>   \n",
       "</tr>\n",
       "</table>\n",
       "<table class=\"simpletable\">\n",
       "<tr>\n",
       "      <td></td>         <th>coef</th>     <th>std err</th>      <th>t</th>      <th>P>|t|</th>  <th>[0.025</th>    <th>0.975]</th>  \n",
       "</tr>\n",
       "<tr>\n",
       "  <th>Intercept</th> <td>   -0.9881</td> <td>    0.234</td> <td>   -4.216</td> <td> 0.000</td> <td>   -1.452</td> <td>   -0.524</td>\n",
       "</tr>\n",
       "<tr>\n",
       "  <th>LPG</th>       <td>    1.7799</td> <td>    0.049</td> <td>   36.428</td> <td> 0.000</td> <td>    1.683</td> <td>    1.877</td>\n",
       "</tr>\n",
       "</table>\n",
       "<table class=\"simpletable\">\n",
       "<tr>\n",
       "  <th>Omnibus:</th>       <td> 0.200</td> <th>  Durbin-Watson:     </th> <td>   0.271</td>\n",
       "</tr>\n",
       "<tr>\n",
       "  <th>Prob(Omnibus):</th> <td> 0.905</td> <th>  Jarque-Bera (JB):  </th> <td>   0.022</td>\n",
       "</tr>\n",
       "<tr>\n",
       "  <th>Skew:</th>          <td>-0.004</td> <th>  Prob(JB):          </th> <td>   0.989</td>\n",
       "</tr>\n",
       "<tr>\n",
       "  <th>Kurtosis:</th>      <td> 3.064</td> <th>  Cond. No.          </th> <td>    8.98</td>\n",
       "</tr>\n",
       "</table><br/><br/>Notes:<br/>[1] Standard Errors assume that the covariance matrix of the errors is correctly specified."
      ],
      "text/plain": [
       "<class 'statsmodels.iolib.summary.Summary'>\n",
       "\"\"\"\n",
       "                            OLS Regression Results                            \n",
       "==============================================================================\n",
       "Dep. Variable:               Dolar_TL   R-squared:                       0.916\n",
       "Model:                            OLS   Adj. R-squared:                  0.915\n",
       "Method:                 Least Squares   F-statistic:                     1327.\n",
       "Date:                Wed, 10 May 2023   Prob (F-statistic):           2.09e-67\n",
       "Time:                        16:18:50   Log-Likelihood:                -219.85\n",
       "No. Observations:                 124   AIC:                             443.7\n",
       "Df Residuals:                     122   BIC:                             449.3\n",
       "Df Model:                           1                                         \n",
       "Covariance Type:            nonrobust                                         \n",
       "==============================================================================\n",
       "                 coef    std err          t      P>|t|      [0.025      0.975]\n",
       "------------------------------------------------------------------------------\n",
       "Intercept     -0.9881      0.234     -4.216      0.000      -1.452      -0.524\n",
       "LPG            1.7799      0.049     36.428      0.000       1.683       1.877\n",
       "==============================================================================\n",
       "Omnibus:                        0.200   Durbin-Watson:                   0.271\n",
       "Prob(Omnibus):                  0.905   Jarque-Bera (JB):                0.022\n",
       "Skew:                          -0.004   Prob(JB):                        0.989\n",
       "Kurtosis:                       3.064   Cond. No.                         8.98\n",
       "==============================================================================\n",
       "\n",
       "Notes:\n",
       "[1] Standard Errors assume that the covariance matrix of the errors is correctly specified.\n",
       "\"\"\""
      ]
     },
     "execution_count": 683,
     "metadata": {},
     "output_type": "execute_result"
    }
   ],
   "source": [
    "LPG = sm.ols(formula=\"Dolar_TL ~ LPG\", data=df).fit()\n",
    "LPG.summary()"
   ]
  },
  {
   "cell_type": "code",
   "execution_count": 684,
   "id": "de75577c",
   "metadata": {},
   "outputs": [
    {
     "data": {
      "text/plain": [
       "Text(0.5, 1.0, 'Dolar ~ LPG Fee')"
      ]
     },
     "execution_count": 684,
     "metadata": {},
     "output_type": "execute_result"
    },
    {
     "data": {
      "image/png": "[encoded data removed]",
      "text/plain": [
       "<Figure size 720x432 with 1 Axes>"
      ]
     },
     "metadata": {
      "needs_background": "light"
     },
     "output_type": "display_data"
    }
   ],
   "source": [
    "plt.scatter(x=df['LPG'],y=df['Dolar_TL'],c='black',marker='x',label='TV')\n",
    "plt.plot(df['LPG'],LPG.predict(),color='b',linewidth=3)\n",
    "\n",
    "plt.legend(loc=2)\n",
    "plt.xlabel('LPG Fee')\n",
    "plt.ylabel('Dolar/TL')\n",
    "plt.title('Dolar ~ LPG Fee')"
   ]
  },
  {
   "cell_type": "code",
   "execution_count": 685,
   "id": "f170d85e",
   "metadata": {},
   "outputs": [
    {
     "data": {
      "text/html": [
       "<table class=\"simpletable\">\n",
       "<caption>OLS Regression Results</caption>\n",
       "<tr>\n",
       "  <th>Dep. Variable:</th>        <td>Dolar_TL</td>     <th>  R-squared:         </th> <td>   0.885</td>\n",
       "</tr>\n",
       "<tr>\n",
       "  <th>Model:</th>                   <td>OLS</td>       <th>  Adj. R-squared:    </th> <td>   0.884</td>\n",
       "</tr>\n",
       "<tr>\n",
       "  <th>Method:</th>             <td>Least Squares</td>  <th>  F-statistic:       </th> <td>   935.0</td>\n",
       "</tr>\n",
       "<tr>\n",
       "  <th>Date:</th>             <td>Wed, 10 May 2023</td> <th>  Prob (F-statistic):</th> <td>4.83e-59</td>\n",
       "</tr>\n",
       "<tr>\n",
       "  <th>Time:</th>                 <td>16:18:50</td>     <th>  Log-Likelihood:    </th> <td> -239.41</td>\n",
       "</tr>\n",
       "<tr>\n",
       "  <th>No. Observations:</th>      <td>   124</td>      <th>  AIC:               </th> <td>   482.8</td>\n",
       "</tr>\n",
       "<tr>\n",
       "  <th>Df Residuals:</th>          <td>   122</td>      <th>  BIC:               </th> <td>   488.5</td>\n",
       "</tr>\n",
       "<tr>\n",
       "  <th>Df Model:</th>              <td>     1</td>      <th>                     </th>     <td> </td>   \n",
       "</tr>\n",
       "<tr>\n",
       "  <th>Covariance Type:</th>      <td>nonrobust</td>    <th>                     </th>     <td> </td>   \n",
       "</tr>\n",
       "</table>\n",
       "<table class=\"simpletable\">\n",
       "<tr>\n",
       "      <td></td>         <th>coef</th>     <th>std err</th>      <th>t</th>      <th>P>|t|</th>  <th>[0.025</th>    <th>0.975]</th>  \n",
       "</tr>\n",
       "<tr>\n",
       "  <th>Intercept</th> <td>    0.4311</td> <td>    0.240</td> <td>    1.795</td> <td> 0.075</td> <td>   -0.044</td> <td>    0.906</td>\n",
       "</tr>\n",
       "<tr>\n",
       "  <th>Diesel</th>    <td>    0.7691</td> <td>    0.025</td> <td>   30.577</td> <td> 0.000</td> <td>    0.719</td> <td>    0.819</td>\n",
       "</tr>\n",
       "</table>\n",
       "<table class=\"simpletable\">\n",
       "<tr>\n",
       "  <th>Omnibus:</th>       <td>15.130</td> <th>  Durbin-Watson:     </th> <td>   0.224</td>\n",
       "</tr>\n",
       "<tr>\n",
       "  <th>Prob(Omnibus):</th> <td> 0.001</td> <th>  Jarque-Bera (JB):  </th> <td>  18.990</td>\n",
       "</tr>\n",
       "<tr>\n",
       "  <th>Skew:</th>          <td> 0.697</td> <th>  Prob(JB):          </th> <td>7.52e-05</td>\n",
       "</tr>\n",
       "<tr>\n",
       "  <th>Kurtosis:</th>      <td> 4.315</td> <th>  Cond. No.          </th> <td>    15.3</td>\n",
       "</tr>\n",
       "</table><br/><br/>Notes:<br/>[1] Standard Errors assume that the covariance matrix of the errors is correctly specified."
      ],
      "text/plain": [
       "<class 'statsmodels.iolib.summary.Summary'>\n",
       "\"\"\"\n",
       "                            OLS Regression Results                            \n",
       "==============================================================================\n",
       "Dep. Variable:               Dolar_TL   R-squared:                       0.885\n",
       "Model:                            OLS   Adj. R-squared:                  0.884\n",
       "Method:                 Least Squares   F-statistic:                     935.0\n",
       "Date:                Wed, 10 May 2023   Prob (F-statistic):           4.83e-59\n",
       "Time:                        16:18:50   Log-Likelihood:                -239.41\n",
       "No. Observations:                 124   AIC:                             482.8\n",
       "Df Residuals:                     122   BIC:                             488.5\n",
       "Df Model:                           1                                         \n",
       "Covariance Type:            nonrobust                                         \n",
       "==============================================================================\n",
       "                 coef    std err          t      P>|t|      [0.025      0.975]\n",
       "------------------------------------------------------------------------------\n",
       "Intercept      0.4311      0.240      1.795      0.075      -0.044       0.906\n",
       "Diesel         0.7691      0.025     30.577      0.000       0.719       0.819\n",
       "==============================================================================\n",
       "Omnibus:                       15.130   Durbin-Watson:                   0.224\n",
       "Prob(Omnibus):                  0.001   Jarque-Bera (JB):               18.990\n",
       "Skew:                           0.697   Prob(JB):                     7.52e-05\n",
       "Kurtosis:                       4.315   Cond. No.                         15.3\n",
       "==============================================================================\n",
       "\n",
       "Notes:\n",
       "[1] Standard Errors assume that the covariance matrix of the errors is correctly specified.\n",
       "\"\"\""
      ]
     },
     "execution_count": 685,
     "metadata": {},
     "output_type": "execute_result"
    }
   ],
   "source": [
    "Diesel = sm.ols(formula=\"Dolar_TL ~ Diesel\", data=df).fit()\n",
    "Diesel.summary()"
   ]
  },
  {
   "cell_type": "code",
   "execution_count": 686,
   "id": "f66751de",
   "metadata": {
    "scrolled": false
   },
   "outputs": [
    {
     "data": {
      "text/plain": [
       "Text(0.5, 1.0, 'Dolar ~ Diesel Fee')"
      ]
     },
     "execution_count": 686,
     "metadata": {},
     "output_type": "execute_result"
    },
    {
     "data": {
      "image/png": "[encoded data removed]",
      "text/plain": [
       "<Figure size 720x432 with 1 Axes>"
      ]
     },
     "metadata": {
      "needs_background": "light"
     },
     "output_type": "display_data"
    }
   ],
   "source": [
    "plt.scatter(x=df['Diesel'],y=df['Dolar_TL'],c='black',marker='o',label='TV')\n",
    "plt.plot(df['Diesel'],Diesel.predict())\n",
    "\n",
    "plt.legend(loc=2)\n",
    "plt.xlabel('Diesel Fee')\n",
    "plt.ylabel('Dolar/TL')\n",
    "plt.title('Dolar ~ Diesel Fee')"
   ]
  },
  {
   "cell_type": "markdown",
   "id": "b5f55b96",
   "metadata": {},
   "source": [
    "#### We can talk about a linear relationship between Dollar and Diesel prices by looking at the R-squared (0.885) and p-value. But it might be better to set up a Polynomial regression rather than a Linear formula."
   ]
  },
  {
   "cell_type": "code",
   "execution_count": 687,
   "id": "5169f080",
   "metadata": {},
   "outputs": [
    {
     "data": {
      "text/html": [
       "<table class=\"simpletable\">\n",
       "<caption>OLS Regression Results</caption>\n",
       "<tr>\n",
       "  <th>Dep. Variable:</th>        <td>Dolar_TL</td>     <th>  R-squared:         </th> <td>   0.948</td>\n",
       "</tr>\n",
       "<tr>\n",
       "  <th>Model:</th>                   <td>OLS</td>       <th>  Adj. R-squared:    </th> <td>   0.947</td>\n",
       "</tr>\n",
       "<tr>\n",
       "  <th>Method:</th>             <td>Least Squares</td>  <th>  F-statistic:       </th> <td>   1106.</td>\n",
       "</tr>\n",
       "<tr>\n",
       "  <th>Date:</th>             <td>Wed, 10 May 2023</td> <th>  Prob (F-statistic):</th> <td>1.78e-78</td>\n",
       "</tr>\n",
       "<tr>\n",
       "  <th>Time:</th>                 <td>16:18:50</td>     <th>  Log-Likelihood:    </th> <td> -189.81</td>\n",
       "</tr>\n",
       "<tr>\n",
       "  <th>No. Observations:</th>      <td>   124</td>      <th>  AIC:               </th> <td>   385.6</td>\n",
       "</tr>\n",
       "<tr>\n",
       "  <th>Df Residuals:</th>          <td>   121</td>      <th>  BIC:               </th> <td>   394.1</td>\n",
       "</tr>\n",
       "<tr>\n",
       "  <th>Df Model:</th>              <td>     2</td>      <th>                     </th>     <td> </td>   \n",
       "</tr>\n",
       "<tr>\n",
       "  <th>Covariance Type:</th>      <td>nonrobust</td>    <th>                     </th>     <td> </td>   \n",
       "</tr>\n",
       "</table>\n",
       "<table class=\"simpletable\">\n",
       "<tr>\n",
       "          <td></td>            <th>coef</th>     <th>std err</th>      <th>t</th>      <th>P>|t|</th>  <th>[0.025</th>    <th>0.975]</th>  \n",
       "</tr>\n",
       "<tr>\n",
       "  <th>Intercept</th>        <td>   -4.9144</td> <td>    0.468</td> <td>  -10.506</td> <td> 0.000</td> <td>   -5.841</td> <td>   -3.988</td>\n",
       "</tr>\n",
       "<tr>\n",
       "  <th>Diesel</th>           <td>    2.0465</td> <td>    0.106</td> <td>   19.260</td> <td> 0.000</td> <td>    1.836</td> <td>    2.257</td>\n",
       "</tr>\n",
       "<tr>\n",
       "  <th>I(Diesel ** 2.0)</th> <td>   -0.0454</td> <td>    0.004</td> <td>  -12.177</td> <td> 0.000</td> <td>   -0.053</td> <td>   -0.038</td>\n",
       "</tr>\n",
       "</table>\n",
       "<table class=\"simpletable\">\n",
       "<tr>\n",
       "  <th>Omnibus:</th>       <td> 4.174</td> <th>  Durbin-Watson:     </th> <td>   0.295</td>\n",
       "</tr>\n",
       "<tr>\n",
       "  <th>Prob(Omnibus):</th> <td> 0.124</td> <th>  Jarque-Bera (JB):  </th> <td>   4.728</td>\n",
       "</tr>\n",
       "<tr>\n",
       "  <th>Skew:</th>          <td> 0.157</td> <th>  Prob(JB):          </th> <td>  0.0940</td>\n",
       "</tr>\n",
       "<tr>\n",
       "  <th>Kurtosis:</th>      <td> 3.904</td> <th>  Cond. No.          </th> <td>    915.</td>\n",
       "</tr>\n",
       "</table><br/><br/>Notes:<br/>[1] Standard Errors assume that the covariance matrix of the errors is correctly specified."
      ],
      "text/plain": [
       "<class 'statsmodels.iolib.summary.Summary'>\n",
       "\"\"\"\n",
       "                            OLS Regression Results                            \n",
       "==============================================================================\n",
       "Dep. Variable:               Dolar_TL   R-squared:                       0.948\n",
       "Model:                            OLS   Adj. R-squared:                  0.947\n",
       "Method:                 Least Squares   F-statistic:                     1106.\n",
       "Date:                Wed, 10 May 2023   Prob (F-statistic):           1.78e-78\n",
       "Time:                        16:18:50   Log-Likelihood:                -189.81\n",
       "No. Observations:                 124   AIC:                             385.6\n",
       "Df Residuals:                     121   BIC:                             394.1\n",
       "Df Model:                           2                                         \n",
       "Covariance Type:            nonrobust                                         \n",
       "====================================================================================\n",
       "                       coef    std err          t      P>|t|      [0.025      0.975]\n",
       "------------------------------------------------------------------------------------\n",
       "Intercept           -4.9144      0.468    -10.506      0.000      -5.841      -3.988\n",
       "Diesel               2.0465      0.106     19.260      0.000       1.836       2.257\n",
       "I(Diesel ** 2.0)    -0.0454      0.004    -12.177      0.000      -0.053      -0.038\n",
       "==============================================================================\n",
       "Omnibus:                        4.174   Durbin-Watson:                   0.295\n",
       "Prob(Omnibus):                  0.124   Jarque-Bera (JB):                4.728\n",
       "Skew:                           0.157   Prob(JB):                       0.0940\n",
       "Kurtosis:                       3.904   Cond. No.                         915.\n",
       "==============================================================================\n",
       "\n",
       "Notes:\n",
       "[1] Standard Errors assume that the covariance matrix of the errors is correctly specified.\n",
       "\"\"\""
      ]
     },
     "execution_count": 687,
     "metadata": {},
     "output_type": "execute_result"
    }
   ],
   "source": [
    "diesel2 = sm.ols(formula=\"Dolar_TL ~ Diesel + I(Diesel ** 2.0)\", data=df).fit()\n",
    "par2 = dict(diesel2.params)\n",
    "x = np.linspace(0,30,30)\n",
    "y2 = par2[\"Intercept\"] + par2['Diesel']*x + par2['I(Diesel ** 2.0)']*x**2\n",
    "diesel2.summary()"
   ]
  },
  {
   "cell_type": "code",
   "execution_count": 688,
   "id": "6f0d35e3",
   "metadata": {},
   "outputs": [
    {
     "data": {
      "text/plain": [
       "[<matplotlib.lines.Line2D at 0x220b3e15610>]"
      ]
     },
     "execution_count": 688,
     "metadata": {},
     "output_type": "execute_result"
    },
    {
     "data": {
      "image/png": "[encoded data removed]",
      "text/plain": [
       "<Figure size 720x432 with 1 Axes>"
      ]
     },
     "metadata": {
      "needs_background": "light"
     },
     "output_type": "display_data"
    }
   ],
   "source": [
    "plt.scatter(df['Diesel'],df['Dolar_TL'],color='black',label=\"data\")\n",
    "plt.plot(x,y2,label=\"degree 2\",linewidth=2)"
   ]
  },
  {
   "cell_type": "markdown",
   "id": "7a894b0a",
   "metadata": {},
   "source": [
    "#### Applying the polynomial regression between Dollar and Diesel prices became R-squared (0.948) and the p-value is still 0 so forecasting with this model will be much better."
   ]
  },
  {
   "cell_type": "markdown",
   "id": "37fd8873",
   "metadata": {},
   "source": [
    "**********"
   ]
  },
  {
   "cell_type": "markdown",
   "id": "de8d82e2",
   "metadata": {},
   "source": [
    "### train-test set create"
   ]
  },
  {
   "cell_type": "code",
   "execution_count": 689,
   "id": "f8dd8a86",
   "metadata": {},
   "outputs": [],
   "source": [
    "df = df.drop(['Date'], axis=1)"
   ]
  },
  {
   "cell_type": "code",
   "execution_count": 690,
   "id": "daa0d70c",
   "metadata": {},
   "outputs": [
    {
     "data": {
      "text/html": [
       "<div>\n",
       "<style scoped>\n",
       "    .dataframe tbody tr th:only-of-type {\n",
       "        vertical-align: middle;\n",
       "    }\n",
       "\n",
       "    .dataframe tbody tr th {\n",
       "        vertical-align: top;\n",
       "    }\n",
       "\n",
       "    .dataframe thead th {\n",
       "        text-align: right;\n",
       "    }\n",
       "</style>\n",
       "<table border=\"1\" class=\"dataframe\">\n",
       "  <thead>\n",
       "    <tr style=\"text-align: right;\">\n",
       "      <th></th>\n",
       "      <th>Electricity_Fee</th>\n",
       "      <th>Natural_Gas_Fee</th>\n",
       "      <th>Petrol</th>\n",
       "      <th>LPG</th>\n",
       "      <th>Diesel</th>\n",
       "      <th>Dolar_TL</th>\n",
       "    </tr>\n",
       "  </thead>\n",
       "  <tbody>\n",
       "    <tr>\n",
       "      <th>119</th>\n",
       "      <td>1.8455</td>\n",
       "      <td>6.0515</td>\n",
       "      <td>18.7984</td>\n",
       "      <td>10.2782</td>\n",
       "      <td>22.2562</td>\n",
       "      <td>18.6905</td>\n",
       "    </tr>\n",
       "    <tr>\n",
       "      <th>120</th>\n",
       "      <td>1.8459</td>\n",
       "      <td>5.6313</td>\n",
       "      <td>20.3082</td>\n",
       "      <td>10.3320</td>\n",
       "      <td>22.9381</td>\n",
       "      <td>18.8115</td>\n",
       "    </tr>\n",
       "    <tr>\n",
       "      <th>121</th>\n",
       "      <td>1.8459</td>\n",
       "      <td>5.6406</td>\n",
       "      <td>20.9698</td>\n",
       "      <td>11.5277</td>\n",
       "      <td>21.4810</td>\n",
       "      <td>18.8875</td>\n",
       "    </tr>\n",
       "    <tr>\n",
       "      <th>122</th>\n",
       "      <td>1.8459</td>\n",
       "      <td>5.7837</td>\n",
       "      <td>20.9145</td>\n",
       "      <td>11.5853</td>\n",
       "      <td>21.2818</td>\n",
       "      <td>19.1793</td>\n",
       "    </tr>\n",
       "    <tr>\n",
       "      <th>123</th>\n",
       "      <td>1.5690</td>\n",
       "      <td>5.7201</td>\n",
       "      <td>22.4125</td>\n",
       "      <td>9.9309</td>\n",
       "      <td>21.1161</td>\n",
       "      <td>19.4530</td>\n",
       "    </tr>\n",
       "  </tbody>\n",
       "</table>\n",
       "</div>"
      ],
      "text/plain": [
       "     Electricity_Fee  Natural_Gas_Fee   Petrol      LPG   Diesel  Dolar_TL\n",
       "119           1.8455           6.0515  18.7984  10.2782  22.2562   18.6905\n",
       "120           1.8459           5.6313  20.3082  10.3320  22.9381   18.8115\n",
       "121           1.8459           5.6406  20.9698  11.5277  21.4810   18.8875\n",
       "122           1.8459           5.7837  20.9145  11.5853  21.2818   19.1793\n",
       "123           1.5690           5.7201  22.4125   9.9309  21.1161   19.4530"
      ]
     },
     "execution_count": 690,
     "metadata": {},
     "output_type": "execute_result"
    }
   ],
   "source": [
    "df.head()\n",
    "df.tail()"
   ]
  },
  {
   "cell_type": "code",
   "execution_count": 691,
   "id": "a86e496d",
   "metadata": {},
   "outputs": [],
   "source": [
    "X = df.drop(['Dolar_TL'],axis=1)\n",
    "y = df['Dolar_TL']"
   ]
  },
  {
   "cell_type": "code",
   "execution_count": 692,
   "id": "f4120594",
   "metadata": {},
   "outputs": [],
   "source": [
    "X_train, X_test, y_train, y_test = train_test_split(X, y, test_size = 0.2, random_state=42)"
   ]
  },
  {
   "cell_type": "code",
   "execution_count": 693,
   "id": "120dbc1e",
   "metadata": {},
   "outputs": [
    {
     "data": {
      "text/plain": [
       "(99, 5)"
      ]
     },
     "execution_count": 693,
     "metadata": {},
     "output_type": "execute_result"
    }
   ],
   "source": [
    "X_train.shape"
   ]
  },
  {
   "cell_type": "code",
   "execution_count": 694,
   "id": "8e0cf22e",
   "metadata": {},
   "outputs": [
    {
     "data": {
      "text/plain": [
       "(99,)"
      ]
     },
     "execution_count": 694,
     "metadata": {},
     "output_type": "execute_result"
    }
   ],
   "source": [
    "y_train.shape"
   ]
  },
  {
   "cell_type": "code",
   "execution_count": 695,
   "id": "278750b6",
   "metadata": {},
   "outputs": [
    {
     "data": {
      "text/plain": [
       "(25, 5)"
      ]
     },
     "execution_count": 695,
     "metadata": {},
     "output_type": "execute_result"
    }
   ],
   "source": [
    "X_test.shape"
   ]
  },
  {
   "cell_type": "code",
   "execution_count": 696,
   "id": "d57d3ef7",
   "metadata": {},
   "outputs": [
    {
     "data": {
      "text/plain": [
       "(25,)"
      ]
     },
     "execution_count": 696,
     "metadata": {},
     "output_type": "execute_result"
    }
   ],
   "source": [
    "y_test.shape"
   ]
  },
  {
   "cell_type": "markdown",
   "id": "0e07a9b9",
   "metadata": {},
   "source": [
    "********************"
   ]
  },
  {
   "cell_type": "markdown",
   "id": "17f4bf9d",
   "metadata": {},
   "source": [
    "# Model 1 - K-Nearest Neighbors (kNN)"
   ]
  },
  {
   "cell_type": "code",
   "execution_count": 697,
   "id": "c1baaa22",
   "metadata": {},
   "outputs": [],
   "source": [
    "from sklearn.model_selection import train_test_split, GridSearchCV, cross_val_score\n",
    "from sklearn.metrics import mean_squared_error, r2_score\n",
    "\n",
    "from sklearn import model_selection\n",
    "from sklearn.neighbors import KNeighborsRegressor"
   ]
  },
  {
   "cell_type": "markdown",
   "id": "0731a3d9",
   "metadata": {},
   "source": [
    "### Create Model"
   ]
  },
  {
   "cell_type": "code",
   "execution_count": 698,
   "id": "8f13136a",
   "metadata": {},
   "outputs": [],
   "source": [
    "knn_model = KNeighborsRegressor() # n_neighbor is default 5 "
   ]
  },
  {
   "cell_type": "code",
   "execution_count": 699,
   "id": "95bd560a",
   "metadata": {},
   "outputs": [],
   "source": [
    "model = knn_model.fit(X_train, y_train)"
   ]
  },
  {
   "cell_type": "code",
   "execution_count": 700,
   "id": "27bed2e9",
   "metadata": {},
   "outputs": [
    {
     "data": {
      "text/plain": [
       "5"
      ]
     },
     "execution_count": 700,
     "metadata": {},
     "output_type": "execute_result"
    }
   ],
   "source": [
    "model.n_neighbors"
   ]
  },
  {
   "cell_type": "markdown",
   "id": "5c0264fe",
   "metadata": {},
   "source": [
    "### Prediction Part"
   ]
  },
  {
   "cell_type": "code",
   "execution_count": 701,
   "id": "1cd8703f",
   "metadata": {},
   "outputs": [],
   "source": [
    "new_data = [[1.8459],[5.7837],[20.9145],[11.5853],[21.2818]]\n",
    "new_data = pd.DataFrame(new_data).T\n"
   ]
  },
  {
   "cell_type": "code",
   "execution_count": 702,
   "id": "f547c376",
   "metadata": {},
   "outputs": [
    {
     "name": "stderr",
     "output_type": "stream",
     "text": [
      "C:\\Users\\enesl\\anaconda3\\lib\\site-packages\\sklearn\\base.py:450: UserWarning: X does not have valid feature names, but KNeighborsRegressor was fitted with feature names\n",
      "  warnings.warn(\n"
     ]
    },
    {
     "data": {
      "text/plain": [
       "array([17.64204])"
      ]
     },
     "execution_count": 702,
     "metadata": {},
     "output_type": "execute_result"
    }
   ],
   "source": [
    "model.predict(new_data)"
   ]
  },
  {
   "cell_type": "markdown",
   "id": "4be50dbb",
   "metadata": {},
   "source": [
    "we give new_data DataFrame values to model and model predict Dolar-TL (17.64204) value.\n",
    "********"
   ]
  },
  {
   "cell_type": "code",
   "execution_count": 703,
   "id": "52bbb7f9",
   "metadata": {},
   "outputs": [],
   "source": [
    "y_pred = model.predict(X_test)"
   ]
  },
  {
   "cell_type": "code",
   "execution_count": 704,
   "id": "eb5fa8fd",
   "metadata": {
    "scrolled": true
   },
   "outputs": [
    {
     "data": {
      "text/plain": [
       "<matplotlib.collections.PathCollection at 0x220b4f82eb0>"
      ]
     },
     "execution_count": 704,
     "metadata": {},
     "output_type": "execute_result"
    },
    {
     "data": {
      "image/png": "[encoded data removed]",
      "text/plain": [
       "<Figure size 720x432 with 1 Axes>"
      ]
     },
     "metadata": {
      "needs_background": "light"
     },
     "output_type": "display_data"
    }
   ],
   "source": [
    "plt.scatter(y_test, model.predict(X_test), color='yellow', edgecolors='r' ,s=70)"
   ]
  },
  {
   "cell_type": "code",
   "execution_count": 705,
   "id": "92486201",
   "metadata": {},
   "outputs": [
    {
     "data": {
      "text/plain": [
       "<seaborn.axisgrid.FacetGrid at 0x220b4f6e490>"
      ]
     },
     "execution_count": 705,
     "metadata": {},
     "output_type": "execute_result"
    },
    {
     "data": {
      "image/png": "[encoded data removed]",
      "text/plain": [
       "<Figure size 360x360 with 1 Axes>"
      ]
     },
     "metadata": {
      "needs_background": "light"
     },
     "output_type": "display_data"
    }
   ],
   "source": [
    "sns.displot((y_test - linear_pred),kde=True)"
   ]
  },
  {
   "cell_type": "code",
   "execution_count": 706,
   "id": "d9b0c130",
   "metadata": {},
   "outputs": [
    {
     "data": {
      "text/plain": [
       "0.59688709840304"
      ]
     },
     "execution_count": 706,
     "metadata": {},
     "output_type": "execute_result"
    }
   ],
   "source": [
    "np.sqrt(mean_squared_error(y_test,y_pred))"
   ]
  },
  {
   "cell_type": "code",
   "execution_count": 707,
   "id": "33e2dcd7",
   "metadata": {},
   "outputs": [],
   "source": [
    "x_pred = model.predict(X_train)"
   ]
  },
  {
   "cell_type": "code",
   "execution_count": 708,
   "id": "7d1e83ff",
   "metadata": {},
   "outputs": [
    {
     "data": {
      "text/plain": [
       "0.6609695300118155"
      ]
     },
     "execution_count": 708,
     "metadata": {},
     "output_type": "execute_result"
    }
   ],
   "source": [
    "np.sqrt(mean_squared_error(y_train ,x_pred))"
   ]
  },
  {
   "cell_type": "markdown",
   "id": "aa9a90d7",
   "metadata": {},
   "source": [
    "test error : 0.59688709840304\n",
    "\n",
    "train error :  0.6609695300118155\n",
    "\n",
    "these values is not close each other so we should find optimal n_neighbors value\n",
    "*********"
   ]
  },
  {
   "cell_type": "code",
   "execution_count": 709,
   "id": "9aa394e8",
   "metadata": {},
   "outputs": [],
   "source": [
    "knn_values = {'n_neighbors' : np.arange(1,30,1)}"
   ]
  },
  {
   "cell_type": "code",
   "execution_count": 710,
   "id": "9ce12373",
   "metadata": {},
   "outputs": [],
   "source": [
    "knn = KNeighborsRegressor()"
   ]
  },
  {
   "cell_type": "code",
   "execution_count": 711,
   "id": "e98031d6",
   "metadata": {},
   "outputs": [],
   "source": [
    "knn_cross_val_model = GridSearchCV(knn, knn_values, cv = 10)"
   ]
  },
  {
   "cell_type": "code",
   "execution_count": 712,
   "id": "30cb7836",
   "metadata": {},
   "outputs": [
    {
     "data": {
      "text/plain": [
       "GridSearchCV(cv=10, estimator=KNeighborsRegressor(),\n",
       "             param_grid={'n_neighbors': array([ 1,  2,  3,  4,  5,  6,  7,  8,  9, 10, 11, 12, 13, 14, 15, 16, 17,\n",
       "       18, 19, 20, 21, 22, 23, 24, 25, 26, 27, 28, 29])})"
      ]
     },
     "execution_count": 712,
     "metadata": {},
     "output_type": "execute_result"
    }
   ],
   "source": [
    "knn_cross_val_model.fit(X_train, y_train)"
   ]
  },
  {
   "cell_type": "code",
   "execution_count": 713,
   "id": "a472d14c",
   "metadata": {},
   "outputs": [
    {
     "data": {
      "text/plain": [
       "2"
      ]
     },
     "execution_count": 713,
     "metadata": {},
     "output_type": "execute_result"
    }
   ],
   "source": [
    "knn_cross_val_model.best_params_['n_neighbors']"
   ]
  },
  {
   "cell_type": "markdown",
   "id": "baa122f9",
   "metadata": {},
   "source": [
    "In here we try 1-30 k-value and we use GridSearchCV to use cross-validation. Lastly we fit the model and model gives us optimal k value (2) \n",
    "***********"
   ]
  },
  {
   "cell_type": "code",
   "execution_count": 714,
   "id": "e6ee74c6",
   "metadata": {},
   "outputs": [],
   "source": [
    "knn_model2 = KNeighborsRegressor(n_neighbors=2)\n",
    "model2 = knn_model2.fit(X_train, y_train)"
   ]
  },
  {
   "cell_type": "code",
   "execution_count": 715,
   "id": "8d769ea1",
   "metadata": {},
   "outputs": [],
   "source": [
    "y_pred = model.predict(X_test)"
   ]
  },
  {
   "cell_type": "code",
   "execution_count": 716,
   "id": "69982503",
   "metadata": {},
   "outputs": [],
   "source": [
    "new_df = pd.DataFrame({'y_test': y_test,\n",
    "                      'predicts': y_pred})\n"
   ]
  },
  {
   "cell_type": "code",
   "execution_count": 717,
   "id": "fe167307",
   "metadata": {},
   "outputs": [
    {
     "data": {
      "text/html": [
       "<div>\n",
       "<style scoped>\n",
       "    .dataframe tbody tr th:only-of-type {\n",
       "        vertical-align: middle;\n",
       "    }\n",
       "\n",
       "    .dataframe tbody tr th {\n",
       "        vertical-align: top;\n",
       "    }\n",
       "\n",
       "    .dataframe thead th {\n",
       "        text-align: right;\n",
       "    }\n",
       "</style>\n",
       "<table border=\"1\" class=\"dataframe\">\n",
       "  <thead>\n",
       "    <tr style=\"text-align: right;\">\n",
       "      <th></th>\n",
       "      <th>y_test</th>\n",
       "      <th>predicts</th>\n",
       "      <th>diff</th>\n",
       "    </tr>\n",
       "  </thead>\n",
       "  <tbody>\n",
       "    <tr>\n",
       "      <th>18</th>\n",
       "      <td>2.1418</td>\n",
       "      <td>2.42678</td>\n",
       "      <td>0.28498</td>\n",
       "    </tr>\n",
       "    <tr>\n",
       "      <th>42</th>\n",
       "      <td>2.9883</td>\n",
       "      <td>2.84140</td>\n",
       "      <td>-0.14690</td>\n",
       "    </tr>\n",
       "    <tr>\n",
       "      <th>36</th>\n",
       "      <td>2.9553</td>\n",
       "      <td>2.78840</td>\n",
       "      <td>-0.16690</td>\n",
       "    </tr>\n",
       "    <tr>\n",
       "      <th>76</th>\n",
       "      <td>5.8382</td>\n",
       "      <td>5.90724</td>\n",
       "      <td>0.06904</td>\n",
       "    </tr>\n",
       "    <tr>\n",
       "      <th>53</th>\n",
       "      <td>3.5212</td>\n",
       "      <td>2.70814</td>\n",
       "      <td>-0.81306</td>\n",
       "    </tr>\n",
       "    <tr>\n",
       "      <th>90</th>\n",
       "      <td>6.9719</td>\n",
       "      <td>7.09628</td>\n",
       "      <td>0.12438</td>\n",
       "    </tr>\n",
       "    <tr>\n",
       "      <th>56</th>\n",
       "      <td>3.5637</td>\n",
       "      <td>3.61202</td>\n",
       "      <td>0.04832</td>\n",
       "    </tr>\n",
       "    <tr>\n",
       "      <th>122</th>\n",
       "      <td>19.1793</td>\n",
       "      <td>17.64204</td>\n",
       "      <td>-1.53726</td>\n",
       "    </tr>\n",
       "    <tr>\n",
       "      <th>121</th>\n",
       "      <td>18.8875</td>\n",
       "      <td>17.64204</td>\n",
       "      <td>-1.24546</td>\n",
       "    </tr>\n",
       "    <tr>\n",
       "      <th>4</th>\n",
       "      <td>1.8756</td>\n",
       "      <td>2.33966</td>\n",
       "      <td>0.46406</td>\n",
       "    </tr>\n",
       "  </tbody>\n",
       "</table>\n",
       "</div>"
      ],
      "text/plain": [
       "      y_test  predicts     diff\n",
       "18    2.1418   2.42678  0.28498\n",
       "42    2.9883   2.84140 -0.14690\n",
       "36    2.9553   2.78840 -0.16690\n",
       "76    5.8382   5.90724  0.06904\n",
       "53    3.5212   2.70814 -0.81306\n",
       "90    6.9719   7.09628  0.12438\n",
       "56    3.5637   3.61202  0.04832\n",
       "122  19.1793  17.64204 -1.53726\n",
       "121  18.8875  17.64204 -1.24546\n",
       "4     1.8756   2.33966  0.46406"
      ]
     },
     "execution_count": 717,
     "metadata": {},
     "output_type": "execute_result"
    }
   ],
   "source": [
    "new_df['diff'] = new_df['predicts'] - new_df['y_test']\n",
    "new_df[:10]"
   ]
  },
  {
   "cell_type": "code",
   "execution_count": 718,
   "id": "6982a3e1",
   "metadata": {},
   "outputs": [
    {
     "data": {
      "text/plain": [
       "0.3426914145865244"
      ]
     },
     "execution_count": 718,
     "metadata": {},
     "output_type": "execute_result"
    }
   ],
   "source": [
    "np.sqrt(mean_squared_error(y_train, knn_model2.predict(X_train)))"
   ]
  },
  {
   "cell_type": "code",
   "execution_count": 719,
   "id": "db402e6e",
   "metadata": {},
   "outputs": [
    {
     "data": {
      "text/plain": [
       "0.5861764505278755"
      ]
     },
     "execution_count": 719,
     "metadata": {},
     "output_type": "execute_result"
    }
   ],
   "source": [
    "np.sqrt(-1 * cross_val_score(knn_model2, X_train, y_train, cv=10, scoring='neg_mean_squared_error')).mean()"
   ]
  },
  {
   "cell_type": "markdown",
   "id": "46ff6a91",
   "metadata": {},
   "source": [
    "Validate train error : 0.5861764505278755\n",
    "   ********************"
   ]
  },
  {
   "cell_type": "markdown",
   "id": "4e75840d",
   "metadata": {},
   "source": [
    "# Model 2 - Linear Regression"
   ]
  },
  {
   "cell_type": "code",
   "execution_count": 720,
   "id": "11b84371",
   "metadata": {},
   "outputs": [],
   "source": [
    "from sklearn.linear_model import LinearRegression"
   ]
  },
  {
   "cell_type": "code",
   "execution_count": 721,
   "id": "bca833e1",
   "metadata": {},
   "outputs": [],
   "source": [
    "l_m = LinearRegression()"
   ]
  },
  {
   "cell_type": "code",
   "execution_count": 722,
   "id": "097dfa5b",
   "metadata": {},
   "outputs": [
    {
     "data": {
      "text/plain": [
       "LinearRegression()"
      ]
     },
     "execution_count": 722,
     "metadata": {},
     "output_type": "execute_result"
    }
   ],
   "source": [
    "l_m.fit(X_train,y_train)"
   ]
  },
  {
   "cell_type": "code",
   "execution_count": 723,
   "id": "02f6b75d",
   "metadata": {},
   "outputs": [
    {
     "name": "stdout",
     "output_type": "stream",
     "text": [
      "-2.4791361407038224\n"
     ]
    }
   ],
   "source": [
    "print(l_m.intercept_)"
   ]
  },
  {
   "cell_type": "code",
   "execution_count": 724,
   "id": "d546894e",
   "metadata": {},
   "outputs": [
    {
     "data": {
      "text/plain": [
       "array([ 6.2160344 ,  1.13939859,  0.49719868,  0.86797386, -0.63938543])"
      ]
     },
     "execution_count": 724,
     "metadata": {},
     "output_type": "execute_result"
    }
   ],
   "source": [
    "l_m.coef_"
   ]
  },
  {
   "cell_type": "code",
   "execution_count": 725,
   "id": "6de605c0",
   "metadata": {},
   "outputs": [],
   "source": [
    "cdf = pd.DataFrame(l_m.coef_, X.columns, columns=['Coeff'])"
   ]
  },
  {
   "cell_type": "code",
   "execution_count": 726,
   "id": "a0e369e3",
   "metadata": {},
   "outputs": [
    {
     "data": {
      "text/html": [
       "<div>\n",
       "<style scoped>\n",
       "    .dataframe tbody tr th:only-of-type {\n",
       "        vertical-align: middle;\n",
       "    }\n",
       "\n",
       "    .dataframe tbody tr th {\n",
       "        vertical-align: top;\n",
       "    }\n",
       "\n",
       "    .dataframe thead th {\n",
       "        text-align: right;\n",
       "    }\n",
       "</style>\n",
       "<table border=\"1\" class=\"dataframe\">\n",
       "  <thead>\n",
       "    <tr style=\"text-align: right;\">\n",
       "      <th></th>\n",
       "      <th>Coeff</th>\n",
       "    </tr>\n",
       "  </thead>\n",
       "  <tbody>\n",
       "    <tr>\n",
       "      <th>Electricity_Fee</th>\n",
       "      <td>6.216034</td>\n",
       "    </tr>\n",
       "    <tr>\n",
       "      <th>Natural_Gas_Fee</th>\n",
       "      <td>1.139399</td>\n",
       "    </tr>\n",
       "    <tr>\n",
       "      <th>Petrol</th>\n",
       "      <td>0.497199</td>\n",
       "    </tr>\n",
       "    <tr>\n",
       "      <th>LPG</th>\n",
       "      <td>0.867974</td>\n",
       "    </tr>\n",
       "    <tr>\n",
       "      <th>Diesel</th>\n",
       "      <td>-0.639385</td>\n",
       "    </tr>\n",
       "  </tbody>\n",
       "</table>\n",
       "</div>"
      ],
      "text/plain": [
       "                    Coeff\n",
       "Electricity_Fee  6.216034\n",
       "Natural_Gas_Fee  1.139399\n",
       "Petrol           0.497199\n",
       "LPG              0.867974\n",
       "Diesel          -0.639385"
      ]
     },
     "execution_count": 726,
     "metadata": {},
     "output_type": "execute_result"
    }
   ],
   "source": [
    "cdf"
   ]
  },
  {
   "cell_type": "markdown",
   "id": "2ec1d6e8",
   "metadata": {},
   "source": [
    "### Prediction Part"
   ]
  },
  {
   "cell_type": "code",
   "execution_count": 727,
   "id": "e6e984cf",
   "metadata": {},
   "outputs": [],
   "source": [
    "linear_pred = l_m.predict(X_test)"
   ]
  },
  {
   "cell_type": "code",
   "execution_count": 734,
   "id": "c586cef5",
   "metadata": {},
   "outputs": [
    {
     "name": "stderr",
     "output_type": "stream",
     "text": [
      "C:\\Users\\enesl\\anaconda3\\lib\\site-packages\\sklearn\\base.py:450: UserWarning: X does not have valid feature names, but LinearRegression was fitted with feature names\n",
      "  warnings.warn(\n"
     ]
    },
    {
     "data": {
      "text/plain": [
       "array([22.43210787])"
      ]
     },
     "execution_count": 734,
     "metadata": {},
     "output_type": "execute_result"
    }
   ],
   "source": [
    "l_m.predict(new_data)"
   ]
  },
  {
   "cell_type": "markdown",
   "id": "883c0aa5",
   "metadata": {},
   "source": [
    "#### When we give new_data to kNN. It return to us 17.64204. Linear Regression predict not like realistic."
   ]
  },
  {
   "cell_type": "markdown",
   "id": "0317c760",
   "metadata": {},
   "source": [
    "*************************"
   ]
  },
  {
   "cell_type": "code",
   "execution_count": 729,
   "id": "91276d52",
   "metadata": {},
   "outputs": [
    {
     "data": {
      "text/plain": [
       "<matplotlib.collections.PathCollection at 0x220b4ef6e50>"
      ]
     },
     "execution_count": 729,
     "metadata": {},
     "output_type": "execute_result"
    },
    {
     "data": {
      "image/png": "[encoded data removed]",
      "text/plain": [
       "<Figure size 720x432 with 1 Axes>"
      ]
     },
     "metadata": {
      "needs_background": "light"
     },
     "output_type": "display_data"
    }
   ],
   "source": [
    "plt.scatter(y_test, linear_pred, color='yellow', edgecolors='r', s=70)"
   ]
  },
  {
   "cell_type": "code",
   "execution_count": 730,
   "id": "96dbdabf",
   "metadata": {},
   "outputs": [
    {
     "data": {
      "text/plain": [
       "<seaborn.axisgrid.FacetGrid at 0x220b368b520>"
      ]
     },
     "execution_count": 730,
     "metadata": {},
     "output_type": "execute_result"
    },
    {
     "data": {
      "image/png": "[encoded data removed]",
      "text/plain": [
       "<Figure size 360x360 with 1 Axes>"
      ]
     },
     "metadata": {
      "needs_background": "light"
     },
     "output_type": "display_data"
    }
   ],
   "source": [
    "sns.displot((y_test - linear_pred),kde=True)"
   ]
  },
  {
   "cell_type": "code",
   "execution_count": 731,
   "id": "5def7782",
   "metadata": {},
   "outputs": [],
   "source": [
    "lin_df = pd.DataFrame({'y_test': y_test,\n",
    "                      'predicts': linear_pred})\n",
    "lin_df['diff'] = lin_df['y_test'] - lin_df['predicts']"
   ]
  },
  {
   "cell_type": "code",
   "execution_count": 732,
   "id": "55fe662f",
   "metadata": {},
   "outputs": [
    {
     "data": {
      "text/html": [
       "<div>\n",
       "<style scoped>\n",
       "    .dataframe tbody tr th:only-of-type {\n",
       "        vertical-align: middle;\n",
       "    }\n",
       "\n",
       "    .dataframe tbody tr th {\n",
       "        vertical-align: top;\n",
       "    }\n",
       "\n",
       "    .dataframe thead th {\n",
       "        text-align: right;\n",
       "    }\n",
       "</style>\n",
       "<table border=\"1\" class=\"dataframe\">\n",
       "  <thead>\n",
       "    <tr style=\"text-align: right;\">\n",
       "      <th></th>\n",
       "      <th>y_test</th>\n",
       "      <th>predicts</th>\n",
       "      <th>diff</th>\n",
       "    </tr>\n",
       "  </thead>\n",
       "  <tbody>\n",
       "    <tr>\n",
       "      <th>18</th>\n",
       "      <td>2.1418</td>\n",
       "      <td>2.996823</td>\n",
       "      <td>-0.855023</td>\n",
       "    </tr>\n",
       "    <tr>\n",
       "      <th>42</th>\n",
       "      <td>2.9883</td>\n",
       "      <td>3.103227</td>\n",
       "      <td>-0.114927</td>\n",
       "    </tr>\n",
       "    <tr>\n",
       "      <th>36</th>\n",
       "      <td>2.9553</td>\n",
       "      <td>3.327245</td>\n",
       "      <td>-0.371945</td>\n",
       "    </tr>\n",
       "    <tr>\n",
       "      <th>76</th>\n",
       "      <td>5.8382</td>\n",
       "      <td>4.868290</td>\n",
       "      <td>0.969910</td>\n",
       "    </tr>\n",
       "    <tr>\n",
       "      <th>53</th>\n",
       "      <td>3.5212</td>\n",
       "      <td>3.276759</td>\n",
       "      <td>0.244441</td>\n",
       "    </tr>\n",
       "    <tr>\n",
       "      <th>90</th>\n",
       "      <td>6.9719</td>\n",
       "      <td>6.495366</td>\n",
       "      <td>0.476534</td>\n",
       "    </tr>\n",
       "    <tr>\n",
       "      <th>56</th>\n",
       "      <td>3.5637</td>\n",
       "      <td>3.489665</td>\n",
       "      <td>0.074035</td>\n",
       "    </tr>\n",
       "    <tr>\n",
       "      <th>122</th>\n",
       "      <td>19.1793</td>\n",
       "      <td>22.432108</td>\n",
       "      <td>-3.252808</td>\n",
       "    </tr>\n",
       "    <tr>\n",
       "      <th>121</th>\n",
       "      <td>18.8875</td>\n",
       "      <td>22.119194</td>\n",
       "      <td>-3.231694</td>\n",
       "    </tr>\n",
       "    <tr>\n",
       "      <th>4</th>\n",
       "      <td>1.8756</td>\n",
       "      <td>2.694056</td>\n",
       "      <td>-0.818456</td>\n",
       "    </tr>\n",
       "  </tbody>\n",
       "</table>\n",
       "</div>"
      ],
      "text/plain": [
       "      y_test   predicts      diff\n",
       "18    2.1418   2.996823 -0.855023\n",
       "42    2.9883   3.103227 -0.114927\n",
       "36    2.9553   3.327245 -0.371945\n",
       "76    5.8382   4.868290  0.969910\n",
       "53    3.5212   3.276759  0.244441\n",
       "90    6.9719   6.495366  0.476534\n",
       "56    3.5637   3.489665  0.074035\n",
       "122  19.1793  22.432108 -3.252808\n",
       "121  18.8875  22.119194 -3.231694\n",
       "4     1.8756   2.694056 -0.818456"
      ]
     },
     "execution_count": 732,
     "metadata": {},
     "output_type": "execute_result"
    }
   ],
   "source": [
    "lin_df[:10]"
   ]
  },
  {
   "cell_type": "code",
   "execution_count": 733,
   "id": "4c05b504",
   "metadata": {},
   "outputs": [
    {
     "data": {
      "text/plain": [
       "0.9420431236547229"
      ]
     },
     "execution_count": 733,
     "metadata": {},
     "output_type": "execute_result"
    }
   ],
   "source": [
    "np.sqrt(-1 * cross_val_score(l_m, X_train, y_train, cv=10, scoring='neg_mean_squared_error')).mean()"
   ]
  },
  {
   "cell_type": "markdown",
   "id": "eb4ce95d",
   "metadata": {},
   "source": [
    "Validate train error : 0.9420431236547229\n",
    "   ********************"
   ]
  },
  {
   "cell_type": "markdown",
   "id": "73af4fe0",
   "metadata": {},
   "source": [
    "### kNN and Linear Regression prediction result: "
   ]
  },
  {
   "cell_type": "markdown",
   "id": "1e1117e2",
   "metadata": {},
   "source": [
    "If we compare kNN validation train error and Linear Regression validation train error:                                      \n",
    "    *Linear Regression validation train error: 0.9420431236547229                                        \n",
    "    *kNN validation train error: 0.5861764505278755\n",
    "    \n",
    "    so kNN validate train error is less than Linear Regression validate train error"
   ]
  },
  {
   "cell_type": "markdown",
   "id": "1fd49a2c",
   "metadata": {},
   "source": [
    "# Conclusion"
   ]
  },
  {
   "cell_type": "markdown",
   "id": "93ed4f31",
   "metadata": {},
   "source": [
    "In our Energy Fee Prices (2013-2023) Project, Firstly we start with Data Searching. Than we take Energy Fee changes dataset from TUIK. Than we take Dollar exchange rate (2013-2023) from inventing.com. After that TUIK's we decided TUIK's data not clear than we clear data in Data Clean Section. In second part we merge Energy Fee data with Dollar data than we did regression analysis. Than we use kNN and Linear Regression for prediction. Lastly, we compare train error each other."
   ]
  },
  {
   "cell_type": "code",
   "execution_count": null,
   "id": "5ad94c91",
   "metadata": {},
   "outputs": [],
   "source": []
  }
 ],
 "metadata": {
  "kernelspec": {
   "display_name": "Python 3 (ipykernel)",
   "language": "python",
   "name": "python3"
  },
  "language_info": {
   "codemirror_mode": {
    "name": "ipython",
    "version": 3
   },
   "file_extension": ".py",
   "mimetype": "text/x-python",
   "name": "python",
   "nbconvert_exporter": "python",
   "pygments_lexer": "ipython3",
   "version": "3.9.12"
  }
 },
 "nbformat": 4,
 "nbformat_minor": 5
}
